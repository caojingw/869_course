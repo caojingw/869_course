{
  "cells": [
    {
      "cell_type": "markdown",
      "metadata": {
        "id": "sbjbn2l_5rX5"
      },
      "source": [
        "# Classification Hyperparameter Tuning\n",
        "\n",
        "- Stephen W. Thomas\n",
        "- Used for MMA 869, MMAI 869, and GMMA 869"
      ]
    },
    {
      "cell_type": "code",
      "execution_count": 1,
      "metadata": {
        "colab": {
          "base_uri": "https://localhost:8080/"
        },
        "id": "937zO8u25rX_",
        "outputId": "a0628478-5c43-46c1-874e-ba325afc6d61"
      },
      "outputs": [
        {
          "name": "stdout",
          "output_type": "stream",
          "text": [
            "2022-11-13 17:22:34.842729\n"
          ]
        }
      ],
      "source": [
        "import datetime\n",
        "print(datetime.datetime.now())"
      ]
    },
    {
      "cell_type": "code",
      "execution_count": 2,
      "metadata": {
        "id": "fQibmrRQ5rYC"
      },
      "outputs": [],
      "source": [
        "import pandas as pd\n",
        "import numpy as np\n",
        "import matplotlib.pyplot as plt\n",
        "\n",
        "from sklearn.model_selection import train_test_split\n",
        "from sklearn.metrics import accuracy_score,confusion_matrix, classification_report\n",
        "from sklearn.tree import DecisionTreeClassifier\n",
        "from sklearn.model_selection import cross_val_score\n",
        "\n",
        "from IPython.core.interactiveshell import InteractiveShell\n",
        "InteractiveShell.ast_node_interactivity = \"all\""
      ]
    },
    {
      "cell_type": "code",
      "execution_count": 3,
      "metadata": {
        "colab": {
          "base_uri": "https://localhost:8080/"
        },
        "id": "fZVBjC-t5rYD",
        "outputId": "02ad60aa-c105-41a8-e35a-0af49bb05632"
      },
      "outputs": [
        {
          "name": "stdout",
          "output_type": "stream",
          "text": [
            "The scikit-learn version is 1.0.2.\n"
          ]
        }
      ],
      "source": [
        "import sklearn\n",
        "print('The scikit-learn version is {}.'.format(sklearn.__version__))"
      ]
    },
    {
      "cell_type": "code",
      "execution_count": 4,
      "metadata": {
        "id": "koAZgmMM5rYE"
      },
      "outputs": [],
      "source": [
        "# Create the 'out' directory to store output images\n",
        "import os\n",
        "if not os.path.exists('out'):\n",
        "    os.makedirs('out')"
      ]
    },
    {
      "cell_type": "markdown",
      "metadata": {
        "id": "LuLGmnlh5rYF"
      },
      "source": [
        "# Load Data"
      ]
    },
    {
      "cell_type": "code",
      "execution_count": 5,
      "metadata": {
        "colab": {
          "base_uri": "https://localhost:8080/",
          "height": 299
        },
        "id": "K2gxI8kS5rYG",
        "outputId": "ec87f4e8-ff23-489a-b855-7597f4f53e7e"
      },
      "outputs": [
        {
          "data": {
            "text/html": [
              "<div>\n",
              "<style scoped>\n",
              "    .dataframe tbody tr th:only-of-type {\n",
              "        vertical-align: middle;\n",
              "    }\n",
              "\n",
              "    .dataframe tbody tr th {\n",
              "        vertical-align: top;\n",
              "    }\n",
              "\n",
              "    .dataframe thead th {\n",
              "        text-align: right;\n",
              "    }\n",
              "</style>\n",
              "<table border=\"1\" class=\"dataframe\">\n",
              "  <thead>\n",
              "    <tr style=\"text-align: right;\">\n",
              "      <th></th>\n",
              "      <th>Duration</th>\n",
              "      <th>Amount</th>\n",
              "      <th>InstallmentRatePercentage</th>\n",
              "      <th>ResidenceDuration</th>\n",
              "      <th>Age</th>\n",
              "      <th>NumberExistingCredits</th>\n",
              "      <th>NumberPeopleMaintenance</th>\n",
              "      <th>Telephone</th>\n",
              "      <th>ForeignWorker</th>\n",
              "      <th>Class</th>\n",
              "      <th>...</th>\n",
              "      <th>OtherInstallmentPlans.Bank</th>\n",
              "      <th>OtherInstallmentPlans.Stores</th>\n",
              "      <th>OtherInstallmentPlans.None</th>\n",
              "      <th>Housing.Rent</th>\n",
              "      <th>Housing.Own</th>\n",
              "      <th>Housing.ForFree</th>\n",
              "      <th>Job.UnemployedUnskilled</th>\n",
              "      <th>Job.UnskilledResident</th>\n",
              "      <th>Job.SkilledEmployee</th>\n",
              "      <th>Job.Management.SelfEmp.HighlyQualified</th>\n",
              "    </tr>\n",
              "  </thead>\n",
              "  <tbody>\n",
              "    <tr>\n",
              "      <th>0</th>\n",
              "      <td>6</td>\n",
              "      <td>1169</td>\n",
              "      <td>4</td>\n",
              "      <td>4</td>\n",
              "      <td>67</td>\n",
              "      <td>2</td>\n",
              "      <td>1</td>\n",
              "      <td>0</td>\n",
              "      <td>1</td>\n",
              "      <td>1</td>\n",
              "      <td>...</td>\n",
              "      <td>0</td>\n",
              "      <td>0</td>\n",
              "      <td>1</td>\n",
              "      <td>0</td>\n",
              "      <td>1</td>\n",
              "      <td>0</td>\n",
              "      <td>0</td>\n",
              "      <td>0</td>\n",
              "      <td>1</td>\n",
              "      <td>0</td>\n",
              "    </tr>\n",
              "    <tr>\n",
              "      <th>1</th>\n",
              "      <td>48</td>\n",
              "      <td>5951</td>\n",
              "      <td>2</td>\n",
              "      <td>2</td>\n",
              "      <td>22</td>\n",
              "      <td>1</td>\n",
              "      <td>1</td>\n",
              "      <td>1</td>\n",
              "      <td>1</td>\n",
              "      <td>0</td>\n",
              "      <td>...</td>\n",
              "      <td>0</td>\n",
              "      <td>0</td>\n",
              "      <td>1</td>\n",
              "      <td>0</td>\n",
              "      <td>1</td>\n",
              "      <td>0</td>\n",
              "      <td>0</td>\n",
              "      <td>0</td>\n",
              "      <td>1</td>\n",
              "      <td>0</td>\n",
              "    </tr>\n",
              "    <tr>\n",
              "      <th>2</th>\n",
              "      <td>12</td>\n",
              "      <td>2096</td>\n",
              "      <td>2</td>\n",
              "      <td>3</td>\n",
              "      <td>49</td>\n",
              "      <td>1</td>\n",
              "      <td>2</td>\n",
              "      <td>1</td>\n",
              "      <td>1</td>\n",
              "      <td>1</td>\n",
              "      <td>...</td>\n",
              "      <td>0</td>\n",
              "      <td>0</td>\n",
              "      <td>1</td>\n",
              "      <td>0</td>\n",
              "      <td>1</td>\n",
              "      <td>0</td>\n",
              "      <td>0</td>\n",
              "      <td>1</td>\n",
              "      <td>0</td>\n",
              "      <td>0</td>\n",
              "    </tr>\n",
              "    <tr>\n",
              "      <th>3</th>\n",
              "      <td>42</td>\n",
              "      <td>7882</td>\n",
              "      <td>2</td>\n",
              "      <td>4</td>\n",
              "      <td>45</td>\n",
              "      <td>1</td>\n",
              "      <td>2</td>\n",
              "      <td>1</td>\n",
              "      <td>1</td>\n",
              "      <td>1</td>\n",
              "      <td>...</td>\n",
              "      <td>0</td>\n",
              "      <td>0</td>\n",
              "      <td>1</td>\n",
              "      <td>0</td>\n",
              "      <td>0</td>\n",
              "      <td>1</td>\n",
              "      <td>0</td>\n",
              "      <td>0</td>\n",
              "      <td>1</td>\n",
              "      <td>0</td>\n",
              "    </tr>\n",
              "    <tr>\n",
              "      <th>4</th>\n",
              "      <td>24</td>\n",
              "      <td>4870</td>\n",
              "      <td>3</td>\n",
              "      <td>4</td>\n",
              "      <td>53</td>\n",
              "      <td>2</td>\n",
              "      <td>2</td>\n",
              "      <td>1</td>\n",
              "      <td>1</td>\n",
              "      <td>0</td>\n",
              "      <td>...</td>\n",
              "      <td>0</td>\n",
              "      <td>0</td>\n",
              "      <td>1</td>\n",
              "      <td>0</td>\n",
              "      <td>0</td>\n",
              "      <td>1</td>\n",
              "      <td>0</td>\n",
              "      <td>0</td>\n",
              "      <td>1</td>\n",
              "      <td>0</td>\n",
              "    </tr>\n",
              "  </tbody>\n",
              "</table>\n",
              "<p>5 rows × 62 columns</p>\n",
              "</div>"
            ],
            "text/plain": [
              "   Duration  Amount  InstallmentRatePercentage  ResidenceDuration  Age  \\\n",
              "0         6    1169                          4                  4   67   \n",
              "1        48    5951                          2                  2   22   \n",
              "2        12    2096                          2                  3   49   \n",
              "3        42    7882                          2                  4   45   \n",
              "4        24    4870                          3                  4   53   \n",
              "\n",
              "   NumberExistingCredits  NumberPeopleMaintenance  Telephone  ForeignWorker  \\\n",
              "0                      2                        1          0              1   \n",
              "1                      1                        1          1              1   \n",
              "2                      1                        2          1              1   \n",
              "3                      1                        2          1              1   \n",
              "4                      2                        2          1              1   \n",
              "\n",
              "   Class  ...  OtherInstallmentPlans.Bank  OtherInstallmentPlans.Stores  \\\n",
              "0      1  ...                           0                             0   \n",
              "1      0  ...                           0                             0   \n",
              "2      1  ...                           0                             0   \n",
              "3      1  ...                           0                             0   \n",
              "4      0  ...                           0                             0   \n",
              "\n",
              "   OtherInstallmentPlans.None  Housing.Rent  Housing.Own  Housing.ForFree  \\\n",
              "0                           1             0            1                0   \n",
              "1                           1             0            1                0   \n",
              "2                           1             0            1                0   \n",
              "3                           1             0            0                1   \n",
              "4                           1             0            0                1   \n",
              "\n",
              "   Job.UnemployedUnskilled  Job.UnskilledResident  Job.SkilledEmployee  \\\n",
              "0                        0                      0                    1   \n",
              "1                        0                      0                    1   \n",
              "2                        0                      1                    0   \n",
              "3                        0                      0                    1   \n",
              "4                        0                      0                    1   \n",
              "\n",
              "   Job.Management.SelfEmp.HighlyQualified  \n",
              "0                                       0  \n",
              "1                                       0  \n",
              "2                                       0  \n",
              "3                                       0  \n",
              "4                                       0  \n",
              "\n",
              "[5 rows x 62 columns]"
            ]
          },
          "execution_count": 5,
          "metadata": {},
          "output_type": "execute_result"
        }
      ],
      "source": [
        "df = pd.read_csv('https://raw.githubusercontent.com/stepthom/869_course/main/data/GermanCredit.csv')\n",
        "df['Class'] = df['Class'].map({'Good': 1, 'Bad': 0})\n",
        "df.head()\n",
        "X = df.drop(['Class'], axis=1)\n",
        "y = df[['Class']]"
      ]
    },
    {
      "cell_type": "code",
      "execution_count": 6,
      "metadata": {
        "id": "75KgGK195rYG"
      },
      "outputs": [],
      "source": [
        "# Helper function to print out the results of hyperparmater tuning in a nice table.\n",
        "\n",
        "def cv_results_to_df(cv_results):\n",
        "    results = pd.DataFrame(list(cv_results['params']))\n",
        "    #results['mean_fit_time'] = cv_results['mean_fit_time']\n",
        "    #results['mean_score_time'] = cv_results['mean_score_time']\n",
        "    #results['mean_train_score'] = cv_results['mean_train_score']\n",
        "    #results['std_train_score'] = cv_results['std_train_score']\n",
        "    results['mean_val_score'] = cv_results['mean_test_score']\n",
        "    #results['std_val_score'] = cv_results['std_test_score']\n",
        "    results['rank_val_score'] = cv_results['rank_test_score']\n",
        "\n",
        "    results = results.sort_values(['mean_val_score'], ascending=False)\n",
        "    return results"
      ]
    },
    {
      "cell_type": "markdown",
      "metadata": {
        "id": "uhLW45Zw5rYI"
      },
      "source": [
        "# Decision Trees"
      ]
    },
    {
      "cell_type": "code",
      "execution_count": 7,
      "metadata": {
        "colab": {
          "base_uri": "https://localhost:8080/"
        },
        "id": "tTNlZB265rYJ",
        "outputId": "711888b9-c0e5-4202-9972-e699613d853c"
      },
      "outputs": [
        {
          "name": "stdout",
          "output_type": "stream",
          "text": [
            "Mean Accuracy: 0.6970\n"
          ]
        }
      ],
      "source": [
        "clf = DecisionTreeClassifier(criterion='entropy', max_depth=5, min_samples_split=5, random_state=0)\n",
        "\n",
        "scores = cross_val_score(clf, X, y, cv=10, scoring=\"accuracy\")\n",
        "print(\"Mean Accuracy: {:.4f}\".format(np.mean(scores)))"
      ]
    },
    {
      "cell_type": "code",
      "execution_count": 8,
      "metadata": {
        "colab": {
          "base_uri": "https://localhost:8080/"
        },
        "id": "MRu7XuOc6Hug",
        "outputId": "51c56f95-0b9f-4d7c-b1af-ed5ac81da1f8"
      },
      "outputs": [
        {
          "name": "stdout",
          "output_type": "stream",
          "text": [
            "Mean Accuracy: 0.7010\n"
          ]
        }
      ],
      "source": [
        "clf2 = DecisionTreeClassifier(criterion='entropy', max_depth=10, min_samples_split=5, random_state=0)\n",
        "\n",
        "scores = cross_val_score(clf2, X, y, cv=10, scoring=\"accuracy\")\n",
        "print(\"Mean Accuracy: {:.4f}\".format(np.mean(scores)))"
      ]
    },
    {
      "cell_type": "code",
      "execution_count": 9,
      "metadata": {
        "colab": {
          "base_uri": "https://localhost:8080/"
        },
        "id": "IUE5D1aE7Bl_",
        "outputId": "5af66fd2-4d6d-478d-a721-8b8617364db3"
      },
      "outputs": [
        {
          "name": "stdout",
          "output_type": "stream",
          "text": [
            "Mean Accuracy: 0.7040\n"
          ]
        }
      ],
      "source": [
        "clf3 = DecisionTreeClassifier(criterion='entropy', max_depth=10, min_samples_split=6, random_state=0)\n",
        "\n",
        "scores = cross_val_score(clf3, X, y, cv=10, scoring=\"accuracy\")\n",
        "print(\"Mean Accuracy: {:.4f}\".format(np.mean(scores)))"
      ]
    },
    {
      "cell_type": "markdown",
      "metadata": {
        "id": "2nHxK9q-5rYK"
      },
      "source": [
        "## Hyperparameter Tuning"
      ]
    },
    {
      "cell_type": "markdown",
      "metadata": {
        "id": "iT-5K9bV5rYK"
      },
      "source": [
        "### Grid Search"
      ]
    },
    {
      "cell_type": "code",
      "execution_count": 10,
      "metadata": {
        "colab": {
          "base_uri": "https://localhost:8080/"
        },
        "id": "sC2TPQ3g5rYL",
        "outputId": "221ccb84-6e98-42b9-cd13-66d3b1436ca6"
      },
      "outputs": [
        {
          "name": "stdout",
          "output_type": "stream",
          "text": [
            "Fitting 10 folds for each of 384 candidates, totalling 3840 fits\n"
          ]
        }
      ],
      "source": [
        "from sklearn.model_selection import GridSearchCV\n",
        "\n",
        "clf = DecisionTreeClassifier(random_state=42)\n",
        "\n",
        "params = {'criterion': ('gini', 'entropy'), \n",
        "          'splitter': ('best', 'random'), \n",
        "          'class_weight': ('balanced', None), \n",
        "          'max_depth': [2, 5, 10, 20], \n",
        "          'min_samples_leaf': [1, 5, 10],\n",
        "          'max_features':[0.25, 0.5, 0.75, 1.0]}\n",
        "\n",
        "search = GridSearchCV(clf, params, scoring='f1_macro', cv=10, verbose=1)\n",
        "search = search.fit(X, y)"
      ]
    },
    {
      "cell_type": "code",
      "execution_count": 11,
      "metadata": {
        "colab": {
          "base_uri": "https://localhost:8080/"
        },
        "id": "Z1gwRiSM5rYN",
        "outputId": "e8b5b233-0ca7-4c76-a42b-b8995589a465"
      },
      "outputs": [
        {
          "data": {
            "text/plain": [
              "{'class_weight': 'balanced',\n",
              " 'criterion': 'gini',\n",
              " 'max_depth': 10,\n",
              " 'max_features': 1.0,\n",
              " 'min_samples_leaf': 1,\n",
              " 'splitter': 'best'}"
            ]
          },
          "execution_count": 11,
          "metadata": {},
          "output_type": "execute_result"
        }
      ],
      "source": [
        "search.best_params_"
      ]
    },
    {
      "cell_type": "code",
      "execution_count": 12,
      "metadata": {
        "colab": {
          "base_uri": "https://localhost:8080/"
        },
        "id": "E4vfk0Gw1me2",
        "outputId": "08ec96a2-2432-49e4-b245-d31f2a453cab"
      },
      "outputs": [
        {
          "data": {
            "text/plain": [
              "0.6631045623915302"
            ]
          },
          "execution_count": 12,
          "metadata": {},
          "output_type": "execute_result"
        }
      ],
      "source": [
        "search.best_score_"
      ]
    },
    {
      "cell_type": "code",
      "execution_count": 13,
      "metadata": {
        "colab": {
          "base_uri": "https://localhost:8080/",
          "height": 423
        },
        "id": "Jv7eBGv65rYP",
        "outputId": "6cd761eb-f697-4b80-927e-8901cbcb9d9c"
      },
      "outputs": [
        {
          "data": {
            "text/html": [
              "<div>\n",
              "<style scoped>\n",
              "    .dataframe tbody tr th:only-of-type {\n",
              "        vertical-align: middle;\n",
              "    }\n",
              "\n",
              "    .dataframe tbody tr th {\n",
              "        vertical-align: top;\n",
              "    }\n",
              "\n",
              "    .dataframe thead th {\n",
              "        text-align: right;\n",
              "    }\n",
              "</style>\n",
              "<table border=\"1\" class=\"dataframe\">\n",
              "  <thead>\n",
              "    <tr style=\"text-align: right;\">\n",
              "      <th></th>\n",
              "      <th>class_weight</th>\n",
              "      <th>criterion</th>\n",
              "      <th>max_depth</th>\n",
              "      <th>max_features</th>\n",
              "      <th>min_samples_leaf</th>\n",
              "      <th>splitter</th>\n",
              "      <th>mean_val_score</th>\n",
              "      <th>rank_val_score</th>\n",
              "    </tr>\n",
              "  </thead>\n",
              "  <tbody>\n",
              "    <tr>\n",
              "      <th>66</th>\n",
              "      <td>balanced</td>\n",
              "      <td>gini</td>\n",
              "      <td>10</td>\n",
              "      <td>1.00</td>\n",
              "      <td>1</td>\n",
              "      <td>best</td>\n",
              "      <td>0.663105</td>\n",
              "      <td>1</td>\n",
              "    </tr>\n",
              "    <tr>\n",
              "      <th>339</th>\n",
              "      <td>None</td>\n",
              "      <td>entropy</td>\n",
              "      <td>10</td>\n",
              "      <td>0.25</td>\n",
              "      <td>5</td>\n",
              "      <td>random</td>\n",
              "      <td>0.662809</td>\n",
              "      <td>2</td>\n",
              "    </tr>\n",
              "    <tr>\n",
              "      <th>145</th>\n",
              "      <td>balanced</td>\n",
              "      <td>entropy</td>\n",
              "      <td>10</td>\n",
              "      <td>0.25</td>\n",
              "      <td>1</td>\n",
              "      <td>random</td>\n",
              "      <td>0.659962</td>\n",
              "      <td>3</td>\n",
              "    </tr>\n",
              "    <tr>\n",
              "      <th>280</th>\n",
              "      <td>None</td>\n",
              "      <td>gini</td>\n",
              "      <td>20</td>\n",
              "      <td>0.75</td>\n",
              "      <td>10</td>\n",
              "      <td>best</td>\n",
              "      <td>0.658818</td>\n",
              "      <td>4</td>\n",
              "    </tr>\n",
              "    <tr>\n",
              "      <th>364</th>\n",
              "      <td>None</td>\n",
              "      <td>entropy</td>\n",
              "      <td>20</td>\n",
              "      <td>0.25</td>\n",
              "      <td>10</td>\n",
              "      <td>best</td>\n",
              "      <td>0.657111</td>\n",
              "      <td>5</td>\n",
              "    </tr>\n",
              "    <tr>\n",
              "      <th>...</th>\n",
              "      <td>...</td>\n",
              "      <td>...</td>\n",
              "      <td>...</td>\n",
              "      <td>...</td>\n",
              "      <td>...</td>\n",
              "      <td>...</td>\n",
              "      <td>...</td>\n",
              "      <td>...</td>\n",
              "    </tr>\n",
              "    <tr>\n",
              "      <th>196</th>\n",
              "      <td>None</td>\n",
              "      <td>gini</td>\n",
              "      <td>2</td>\n",
              "      <td>0.25</td>\n",
              "      <td>10</td>\n",
              "      <td>best</td>\n",
              "      <td>0.411765</td>\n",
              "      <td>379</td>\n",
              "    </tr>\n",
              "    <tr>\n",
              "      <th>194</th>\n",
              "      <td>None</td>\n",
              "      <td>gini</td>\n",
              "      <td>2</td>\n",
              "      <td>0.25</td>\n",
              "      <td>5</td>\n",
              "      <td>best</td>\n",
              "      <td>0.411765</td>\n",
              "      <td>379</td>\n",
              "    </tr>\n",
              "    <tr>\n",
              "      <th>288</th>\n",
              "      <td>None</td>\n",
              "      <td>entropy</td>\n",
              "      <td>2</td>\n",
              "      <td>0.25</td>\n",
              "      <td>1</td>\n",
              "      <td>best</td>\n",
              "      <td>0.411765</td>\n",
              "      <td>379</td>\n",
              "    </tr>\n",
              "    <tr>\n",
              "      <th>290</th>\n",
              "      <td>None</td>\n",
              "      <td>entropy</td>\n",
              "      <td>2</td>\n",
              "      <td>0.25</td>\n",
              "      <td>5</td>\n",
              "      <td>best</td>\n",
              "      <td>0.411765</td>\n",
              "      <td>379</td>\n",
              "    </tr>\n",
              "    <tr>\n",
              "      <th>192</th>\n",
              "      <td>None</td>\n",
              "      <td>gini</td>\n",
              "      <td>2</td>\n",
              "      <td>0.25</td>\n",
              "      <td>1</td>\n",
              "      <td>best</td>\n",
              "      <td>0.411765</td>\n",
              "      <td>379</td>\n",
              "    </tr>\n",
              "  </tbody>\n",
              "</table>\n",
              "<p>384 rows × 8 columns</p>\n",
              "</div>"
            ],
            "text/plain": [
              "    class_weight criterion  max_depth  max_features  min_samples_leaf  \\\n",
              "66      balanced      gini         10          1.00                 1   \n",
              "339         None   entropy         10          0.25                 5   \n",
              "145     balanced   entropy         10          0.25                 1   \n",
              "280         None      gini         20          0.75                10   \n",
              "364         None   entropy         20          0.25                10   \n",
              "..           ...       ...        ...           ...               ...   \n",
              "196         None      gini          2          0.25                10   \n",
              "194         None      gini          2          0.25                 5   \n",
              "288         None   entropy          2          0.25                 1   \n",
              "290         None   entropy          2          0.25                 5   \n",
              "192         None      gini          2          0.25                 1   \n",
              "\n",
              "    splitter  mean_val_score  rank_val_score  \n",
              "66      best        0.663105               1  \n",
              "339   random        0.662809               2  \n",
              "145   random        0.659962               3  \n",
              "280     best        0.658818               4  \n",
              "364     best        0.657111               5  \n",
              "..       ...             ...             ...  \n",
              "196     best        0.411765             379  \n",
              "194     best        0.411765             379  \n",
              "288     best        0.411765             379  \n",
              "290     best        0.411765             379  \n",
              "192     best        0.411765             379  \n",
              "\n",
              "[384 rows x 8 columns]"
            ]
          },
          "execution_count": 13,
          "metadata": {},
          "output_type": "execute_result"
        }
      ],
      "source": [
        "cv_results_to_df(search.cv_results_)"
      ]
    },
    {
      "cell_type": "markdown",
      "metadata": {
        "id": "tnXwirRi5rYP"
      },
      "source": [
        "### Random Search"
      ]
    },
    {
      "cell_type": "code",
      "execution_count": 14,
      "metadata": {
        "colab": {
          "base_uri": "https://localhost:8080/"
        },
        "id": "FRk-AsiX5rYP",
        "outputId": "06544d76-a4c0-40c7-d696-0b9d0d37e90f"
      },
      "outputs": [
        {
          "name": "stdout",
          "output_type": "stream",
          "text": [
            "Fitting 10 folds for each of 1000 candidates, totalling 10000 fits\n"
          ]
        }
      ],
      "source": [
        "from sklearn.model_selection import RandomizedSearchCV\n",
        "from scipy.stats import randint, uniform\n",
        "\n",
        "clf = DecisionTreeClassifier(random_state=42)\n",
        "\n",
        "params = {\"criterion\": [\"gini\", \"entropy\"],\n",
        "          \"splitter\": [\"best\", \"random\"],\n",
        "          \"class_weight\": ['balanced', None], \n",
        "          \"max_depth\": randint(2, 21),\n",
        "          \"min_samples_leaf\": randint(1, 11),\n",
        "          \"max_features\": uniform(0.0, 1.0)}\n",
        "\n",
        "search = RandomizedSearchCV(clf, param_distributions=params, n_iter=1000, scoring='f1_macro', cv=10, verbose=1)\n",
        "search = search.fit(X, y)"
      ]
    },
    {
      "cell_type": "code",
      "execution_count": 16,
      "metadata": {
        "colab": {
          "base_uri": "https://localhost:8080/"
        },
        "id": "pNrBDryu5rYR",
        "outputId": "d5d0e9db-44ac-4d25-f906-4c90e3197638"
      },
      "outputs": [
        {
          "data": {
            "text/plain": [
              "{'class_weight': None,\n",
              " 'criterion': 'gini',\n",
              " 'max_depth': 8,\n",
              " 'max_features': 0.3305176264926438,\n",
              " 'min_samples_leaf': 7,\n",
              " 'splitter': 'random'}"
            ]
          },
          "execution_count": 16,
          "metadata": {},
          "output_type": "execute_result"
        }
      ],
      "source": [
        "search.best_params_"
      ]
    },
    {
      "cell_type": "code",
      "execution_count": 15,
      "metadata": {
        "colab": {
          "base_uri": "https://localhost:8080/"
        },
        "id": "1apo9rK81z4_",
        "outputId": "ae71d399-eef2-489f-e2aa-2334a475e800"
      },
      "outputs": [
        {
          "data": {
            "text/plain": [
              "0.6752725802591557"
            ]
          },
          "execution_count": 15,
          "metadata": {},
          "output_type": "execute_result"
        }
      ],
      "source": [
        "search.best_score_"
      ]
    },
    {
      "cell_type": "code",
      "execution_count": 16,
      "metadata": {
        "colab": {
          "base_uri": "https://localhost:8080/",
          "height": 423
        },
        "id": "x7x9Qvj65rYR",
        "outputId": "d4377362-433a-4895-8681-d558ef7faa06"
      },
      "outputs": [
        {
          "data": {
            "text/html": [
              "<div>\n",
              "<style scoped>\n",
              "    .dataframe tbody tr th:only-of-type {\n",
              "        vertical-align: middle;\n",
              "    }\n",
              "\n",
              "    .dataframe tbody tr th {\n",
              "        vertical-align: top;\n",
              "    }\n",
              "\n",
              "    .dataframe thead th {\n",
              "        text-align: right;\n",
              "    }\n",
              "</style>\n",
              "<table border=\"1\" class=\"dataframe\">\n",
              "  <thead>\n",
              "    <tr style=\"text-align: right;\">\n",
              "      <th></th>\n",
              "      <th>class_weight</th>\n",
              "      <th>criterion</th>\n",
              "      <th>max_depth</th>\n",
              "      <th>max_features</th>\n",
              "      <th>min_samples_leaf</th>\n",
              "      <th>splitter</th>\n",
              "      <th>mean_val_score</th>\n",
              "      <th>rank_val_score</th>\n",
              "    </tr>\n",
              "  </thead>\n",
              "  <tbody>\n",
              "    <tr>\n",
              "      <th>976</th>\n",
              "      <td>None</td>\n",
              "      <td>entropy</td>\n",
              "      <td>7</td>\n",
              "      <td>0.336996</td>\n",
              "      <td>9</td>\n",
              "      <td>random</td>\n",
              "      <td>0.675273</td>\n",
              "      <td>1</td>\n",
              "    </tr>\n",
              "    <tr>\n",
              "      <th>409</th>\n",
              "      <td>None</td>\n",
              "      <td>entropy</td>\n",
              "      <td>14</td>\n",
              "      <td>0.133708</td>\n",
              "      <td>8</td>\n",
              "      <td>best</td>\n",
              "      <td>0.674951</td>\n",
              "      <td>2</td>\n",
              "    </tr>\n",
              "    <tr>\n",
              "      <th>666</th>\n",
              "      <td>balanced</td>\n",
              "      <td>entropy</td>\n",
              "      <td>12</td>\n",
              "      <td>0.951757</td>\n",
              "      <td>3</td>\n",
              "      <td>best</td>\n",
              "      <td>0.673843</td>\n",
              "      <td>3</td>\n",
              "    </tr>\n",
              "    <tr>\n",
              "      <th>860</th>\n",
              "      <td>None</td>\n",
              "      <td>entropy</td>\n",
              "      <td>15</td>\n",
              "      <td>0.332030</td>\n",
              "      <td>8</td>\n",
              "      <td>random</td>\n",
              "      <td>0.671735</td>\n",
              "      <td>4</td>\n",
              "    </tr>\n",
              "    <tr>\n",
              "      <th>345</th>\n",
              "      <td>None</td>\n",
              "      <td>entropy</td>\n",
              "      <td>19</td>\n",
              "      <td>0.387415</td>\n",
              "      <td>8</td>\n",
              "      <td>best</td>\n",
              "      <td>0.666677</td>\n",
              "      <td>5</td>\n",
              "    </tr>\n",
              "    <tr>\n",
              "      <th>...</th>\n",
              "      <td>...</td>\n",
              "      <td>...</td>\n",
              "      <td>...</td>\n",
              "      <td>...</td>\n",
              "      <td>...</td>\n",
              "      <td>...</td>\n",
              "      <td>...</td>\n",
              "      <td>...</td>\n",
              "    </tr>\n",
              "    <tr>\n",
              "      <th>974</th>\n",
              "      <td>None</td>\n",
              "      <td>gini</td>\n",
              "      <td>2</td>\n",
              "      <td>0.197313</td>\n",
              "      <td>4</td>\n",
              "      <td>random</td>\n",
              "      <td>0.411765</td>\n",
              "      <td>991</td>\n",
              "    </tr>\n",
              "    <tr>\n",
              "      <th>132</th>\n",
              "      <td>None</td>\n",
              "      <td>entropy</td>\n",
              "      <td>3</td>\n",
              "      <td>0.010523</td>\n",
              "      <td>6</td>\n",
              "      <td>best</td>\n",
              "      <td>0.411765</td>\n",
              "      <td>991</td>\n",
              "    </tr>\n",
              "    <tr>\n",
              "      <th>153</th>\n",
              "      <td>None</td>\n",
              "      <td>entropy</td>\n",
              "      <td>2</td>\n",
              "      <td>0.195254</td>\n",
              "      <td>6</td>\n",
              "      <td>best</td>\n",
              "      <td>0.411765</td>\n",
              "      <td>991</td>\n",
              "    </tr>\n",
              "    <tr>\n",
              "      <th>114</th>\n",
              "      <td>None</td>\n",
              "      <td>entropy</td>\n",
              "      <td>2</td>\n",
              "      <td>0.234172</td>\n",
              "      <td>3</td>\n",
              "      <td>best</td>\n",
              "      <td>0.411765</td>\n",
              "      <td>991</td>\n",
              "    </tr>\n",
              "    <tr>\n",
              "      <th>173</th>\n",
              "      <td>balanced</td>\n",
              "      <td>gini</td>\n",
              "      <td>3</td>\n",
              "      <td>0.011672</td>\n",
              "      <td>8</td>\n",
              "      <td>random</td>\n",
              "      <td>0.391141</td>\n",
              "      <td>1000</td>\n",
              "    </tr>\n",
              "  </tbody>\n",
              "</table>\n",
              "<p>1000 rows × 8 columns</p>\n",
              "</div>"
            ],
            "text/plain": [
              "    class_weight criterion  max_depth  max_features  min_samples_leaf  \\\n",
              "976         None   entropy          7      0.336996                 9   \n",
              "409         None   entropy         14      0.133708                 8   \n",
              "666     balanced   entropy         12      0.951757                 3   \n",
              "860         None   entropy         15      0.332030                 8   \n",
              "345         None   entropy         19      0.387415                 8   \n",
              "..           ...       ...        ...           ...               ...   \n",
              "974         None      gini          2      0.197313                 4   \n",
              "132         None   entropy          3      0.010523                 6   \n",
              "153         None   entropy          2      0.195254                 6   \n",
              "114         None   entropy          2      0.234172                 3   \n",
              "173     balanced      gini          3      0.011672                 8   \n",
              "\n",
              "    splitter  mean_val_score  rank_val_score  \n",
              "976   random        0.675273               1  \n",
              "409     best        0.674951               2  \n",
              "666     best        0.673843               3  \n",
              "860   random        0.671735               4  \n",
              "345     best        0.666677               5  \n",
              "..       ...             ...             ...  \n",
              "974   random        0.411765             991  \n",
              "132     best        0.411765             991  \n",
              "153     best        0.411765             991  \n",
              "114     best        0.411765             991  \n",
              "173   random        0.391141            1000  \n",
              "\n",
              "[1000 rows x 8 columns]"
            ]
          },
          "execution_count": 16,
          "metadata": {},
          "output_type": "execute_result"
        }
      ],
      "source": [
        "cv_results_to_df(search.cv_results_)"
      ]
    },
    {
      "cell_type": "markdown",
      "metadata": {
        "id": "c53Ud7dc2sw1"
      },
      "source": [
        "# Halving Grid Search"
      ]
    },
    {
      "cell_type": "code",
      "execution_count": 17,
      "metadata": {
        "colab": {
          "base_uri": "https://localhost:8080/"
        },
        "id": "BO7hgxHx2tyM",
        "outputId": "5097a735-bc25-4360-ab49-b200b34bc1f8"
      },
      "outputs": [
        {
          "name": "stderr",
          "output_type": "stream",
          "text": [
            "c:\\Users\\james\\anaconda3\\lib\\site-packages\\sklearn\\utils\\validation.py:993: DataConversionWarning: A column-vector y was passed when a 1d array was expected. Please change the shape of y to (n_samples, ), for example using ravel().\n",
            "  y = column_or_1d(y, warn=True)\n"
          ]
        },
        {
          "name": "stdout",
          "output_type": "stream",
          "text": [
            "n_iterations: 3\n",
            "n_required_iterations: 6\n",
            "n_possible_iterations: 3\n",
            "min_resources_: 40\n",
            "max_resources_: 1000\n",
            "aggressive_elimination: False\n",
            "factor: 3\n",
            "----------\n",
            "iter: 0\n",
            "n_candidates: 384\n",
            "n_resources: 40\n",
            "Fitting 10 folds for each of 384 candidates, totalling 3840 fits\n",
            "----------\n",
            "iter: 1\n",
            "n_candidates: 128\n",
            "n_resources: 120\n",
            "Fitting 10 folds for each of 128 candidates, totalling 1280 fits\n",
            "----------\n",
            "iter: 2\n",
            "n_candidates: 43\n",
            "n_resources: 360\n",
            "Fitting 10 folds for each of 43 candidates, totalling 430 fits\n"
          ]
        }
      ],
      "source": [
        "from sklearn.experimental import enable_halving_search_cv # noqa\n",
        "from sklearn.model_selection import HalvingGridSearchCV\n",
        "\n",
        "clf = DecisionTreeClassifier(random_state=42)\n",
        "\n",
        "params = {'criterion': ('gini', 'entropy'), \n",
        "          'splitter': ('best', 'random'), \n",
        "          'class_weight': ('balanced', None), \n",
        "          'max_depth': [2, 5, 10, 20], \n",
        "          'min_samples_leaf': [1, 5, 10],\n",
        "          'max_features':[0.25, 0.5, 0.75, 1.0]}\n",
        "\n",
        "search = HalvingGridSearchCV(clf, params, scoring='f1_macro', cv=10, verbose=1)\n",
        "search = search.fit(X, y)"
      ]
    },
    {
      "cell_type": "code",
      "execution_count": 18,
      "metadata": {
        "colab": {
          "base_uri": "https://localhost:8080/"
        },
        "id": "X5R78q2Z2_P2",
        "outputId": "1a348c19-be93-4a95-8370-62d8382367da"
      },
      "outputs": [
        {
          "data": {
            "text/plain": [
              "{'class_weight': None,\n",
              " 'criterion': 'entropy',\n",
              " 'max_depth': 5,\n",
              " 'max_features': 0.5,\n",
              " 'min_samples_leaf': 10,\n",
              " 'splitter': 'random'}"
            ]
          },
          "execution_count": 18,
          "metadata": {},
          "output_type": "execute_result"
        }
      ],
      "source": [
        "search.best_params_"
      ]
    },
    {
      "cell_type": "code",
      "execution_count": 19,
      "metadata": {
        "colab": {
          "base_uri": "https://localhost:8080/"
        },
        "id": "kPFupz4s255k",
        "outputId": "062a633c-8f28-468f-bcfa-45a97e8b3cc5"
      },
      "outputs": [
        {
          "data": {
            "text/plain": [
              "0.6710221942836194"
            ]
          },
          "execution_count": 19,
          "metadata": {},
          "output_type": "execute_result"
        }
      ],
      "source": [
        "search.best_score_"
      ]
    },
    {
      "cell_type": "code",
      "execution_count": 20,
      "metadata": {
        "colab": {
          "base_uri": "https://localhost:8080/",
          "height": 423
        },
        "id": "J7SYnnUM3ASm",
        "outputId": "60babfc4-4844-4fb1-f6fa-ae71f64933f4"
      },
      "outputs": [
        {
          "data": {
            "text/html": [
              "<div>\n",
              "<style scoped>\n",
              "    .dataframe tbody tr th:only-of-type {\n",
              "        vertical-align: middle;\n",
              "    }\n",
              "\n",
              "    .dataframe tbody tr th {\n",
              "        vertical-align: top;\n",
              "    }\n",
              "\n",
              "    .dataframe thead th {\n",
              "        text-align: right;\n",
              "    }\n",
              "</style>\n",
              "<table border=\"1\" class=\"dataframe\">\n",
              "  <thead>\n",
              "    <tr style=\"text-align: right;\">\n",
              "      <th></th>\n",
              "      <th>class_weight</th>\n",
              "      <th>criterion</th>\n",
              "      <th>max_depth</th>\n",
              "      <th>max_features</th>\n",
              "      <th>min_samples_leaf</th>\n",
              "      <th>splitter</th>\n",
              "      <th>mean_val_score</th>\n",
              "      <th>rank_val_score</th>\n",
              "    </tr>\n",
              "  </thead>\n",
              "  <tbody>\n",
              "    <tr>\n",
              "      <th>336</th>\n",
              "      <td>None</td>\n",
              "      <td>entropy</td>\n",
              "      <td>10</td>\n",
              "      <td>0.25</td>\n",
              "      <td>1</td>\n",
              "      <td>best</td>\n",
              "      <td>0.796190</td>\n",
              "      <td>1</td>\n",
              "    </tr>\n",
              "    <tr>\n",
              "      <th>360</th>\n",
              "      <td>None</td>\n",
              "      <td>entropy</td>\n",
              "      <td>20</td>\n",
              "      <td>0.25</td>\n",
              "      <td>1</td>\n",
              "      <td>best</td>\n",
              "      <td>0.796190</td>\n",
              "      <td>1</td>\n",
              "    </tr>\n",
              "    <tr>\n",
              "      <th>338</th>\n",
              "      <td>None</td>\n",
              "      <td>entropy</td>\n",
              "      <td>10</td>\n",
              "      <td>0.25</td>\n",
              "      <td>5</td>\n",
              "      <td>best</td>\n",
              "      <td>0.765714</td>\n",
              "      <td>3</td>\n",
              "    </tr>\n",
              "    <tr>\n",
              "      <th>362</th>\n",
              "      <td>None</td>\n",
              "      <td>entropy</td>\n",
              "      <td>20</td>\n",
              "      <td>0.25</td>\n",
              "      <td>5</td>\n",
              "      <td>best</td>\n",
              "      <td>0.765714</td>\n",
              "      <td>3</td>\n",
              "    </tr>\n",
              "    <tr>\n",
              "      <th>314</th>\n",
              "      <td>None</td>\n",
              "      <td>entropy</td>\n",
              "      <td>5</td>\n",
              "      <td>0.25</td>\n",
              "      <td>5</td>\n",
              "      <td>best</td>\n",
              "      <td>0.765714</td>\n",
              "      <td>3</td>\n",
              "    </tr>\n",
              "    <tr>\n",
              "      <th>...</th>\n",
              "      <td>...</td>\n",
              "      <td>...</td>\n",
              "      <td>...</td>\n",
              "      <td>...</td>\n",
              "      <td>...</td>\n",
              "      <td>...</td>\n",
              "      <td>...</td>\n",
              "      <td>...</td>\n",
              "    </tr>\n",
              "    <tr>\n",
              "      <th>121</th>\n",
              "      <td>balanced</td>\n",
              "      <td>entropy</td>\n",
              "      <td>5</td>\n",
              "      <td>0.25</td>\n",
              "      <td>1</td>\n",
              "      <td>random</td>\n",
              "      <td>0.408571</td>\n",
              "      <td>551</td>\n",
              "    </tr>\n",
              "    <tr>\n",
              "      <th>182</th>\n",
              "      <td>balanced</td>\n",
              "      <td>entropy</td>\n",
              "      <td>20</td>\n",
              "      <td>0.75</td>\n",
              "      <td>5</td>\n",
              "      <td>best</td>\n",
              "      <td>0.382381</td>\n",
              "      <td>552</td>\n",
              "    </tr>\n",
              "    <tr>\n",
              "      <th>158</th>\n",
              "      <td>balanced</td>\n",
              "      <td>entropy</td>\n",
              "      <td>10</td>\n",
              "      <td>0.75</td>\n",
              "      <td>5</td>\n",
              "      <td>best</td>\n",
              "      <td>0.382381</td>\n",
              "      <td>552</td>\n",
              "    </tr>\n",
              "    <tr>\n",
              "      <th>134</th>\n",
              "      <td>balanced</td>\n",
              "      <td>entropy</td>\n",
              "      <td>5</td>\n",
              "      <td>0.75</td>\n",
              "      <td>5</td>\n",
              "      <td>best</td>\n",
              "      <td>0.382381</td>\n",
              "      <td>552</td>\n",
              "    </tr>\n",
              "    <tr>\n",
              "      <th>18</th>\n",
              "      <td>balanced</td>\n",
              "      <td>gini</td>\n",
              "      <td>2</td>\n",
              "      <td>1.00</td>\n",
              "      <td>1</td>\n",
              "      <td>best</td>\n",
              "      <td>0.332381</td>\n",
              "      <td>555</td>\n",
              "    </tr>\n",
              "  </tbody>\n",
              "</table>\n",
              "<p>555 rows × 8 columns</p>\n",
              "</div>"
            ],
            "text/plain": [
              "    class_weight criterion  max_depth  max_features  min_samples_leaf  \\\n",
              "336         None   entropy         10          0.25                 1   \n",
              "360         None   entropy         20          0.25                 1   \n",
              "338         None   entropy         10          0.25                 5   \n",
              "362         None   entropy         20          0.25                 5   \n",
              "314         None   entropy          5          0.25                 5   \n",
              "..           ...       ...        ...           ...               ...   \n",
              "121     balanced   entropy          5          0.25                 1   \n",
              "182     balanced   entropy         20          0.75                 5   \n",
              "158     balanced   entropy         10          0.75                 5   \n",
              "134     balanced   entropy          5          0.75                 5   \n",
              "18      balanced      gini          2          1.00                 1   \n",
              "\n",
              "    splitter  mean_val_score  rank_val_score  \n",
              "336     best        0.796190               1  \n",
              "360     best        0.796190               1  \n",
              "338     best        0.765714               3  \n",
              "362     best        0.765714               3  \n",
              "314     best        0.765714               3  \n",
              "..       ...             ...             ...  \n",
              "121   random        0.408571             551  \n",
              "182     best        0.382381             552  \n",
              "158     best        0.382381             552  \n",
              "134     best        0.382381             552  \n",
              "18      best        0.332381             555  \n",
              "\n",
              "[555 rows x 8 columns]"
            ]
          },
          "execution_count": 20,
          "metadata": {},
          "output_type": "execute_result"
        }
      ],
      "source": [
        "cv_results_to_df(search.cv_results_)"
      ]
    },
    {
      "cell_type": "code",
      "execution_count": null,
      "metadata": {
        "id": "ORPZcFEE3N9Y"
      },
      "outputs": [],
      "source": []
    }
  ],
  "metadata": {
    "colab": {
      "name": "slides_classification_tuning.ipynb",
      "provenance": []
    },
    "kernelspec": {
      "display_name": "Python 3.9.13 ('base')",
      "language": "python",
      "name": "python3"
    },
    "language_info": {
      "codemirror_mode": {
        "name": "ipython",
        "version": 3
      },
      "file_extension": ".py",
      "mimetype": "text/x-python",
      "name": "python",
      "nbconvert_exporter": "python",
      "pygments_lexer": "ipython3",
      "version": "3.9.13"
    },
    "vscode": {
      "interpreter": {
        "hash": "594cbcb53b7eb24b01ad1ace3292a9583de43e996a12a214afbcf4f5a5715dd8"
      }
    }
  },
  "nbformat": 4,
  "nbformat_minor": 0
}
