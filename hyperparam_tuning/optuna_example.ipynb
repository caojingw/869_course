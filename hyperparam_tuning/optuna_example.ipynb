{
  "cells": [
    {
      "cell_type": "markdown",
      "metadata": {
        "colab_type": "text",
        "id": "view-in-github"
      },
      "source": [
        "<a href=\"https://colab.research.google.com/github/stepthom/869_course/blob/main/optuna_example.ipynb\" target=\"_parent\"><img src=\"https://colab.research.google.com/assets/colab-badge.svg\" alt=\"Open In Colab\"/></a>"
      ]
    },
    {
      "cell_type": "markdown",
      "metadata": {
        "id": "tSpbEI6NBcHO"
      },
      "source": [
        "\n",
        "# My First Optuna Slides\n",
        "\n",
        "[Optuna](https://optuna.org/) is great for advanced hyperparameter tuning.\n",
        "\n",
        "- Stephen W. Thomas\n",
        "- Used for MMA 869, MMAI 869, and GMMA 869"
      ]
    },
    {
      "cell_type": "code",
      "execution_count": 1,
      "metadata": {
        "colab": {
          "base_uri": "https://localhost:8080/"
        },
        "id": "qXTNdxFGBuDH",
        "outputId": "ad8deedb-3e01-48f8-e59e-3bfbc648d8cd"
      },
      "outputs": [
        {
          "name": "stdout",
          "output_type": "stream",
          "text": [
            "2022-11-13 17:02:31.467412\n"
          ]
        }
      ],
      "source": [
        "import datetime\n",
        "print(datetime.datetime.now())"
      ]
    },
    {
      "cell_type": "code",
      "execution_count": 2,
      "metadata": {
        "id": "XkZkVsz_BgzO"
      },
      "outputs": [
        {
          "name": "stdout",
          "output_type": "stream",
          "text": [
            "Collecting optuna\n",
            "  Downloading optuna-3.0.3-py3-none-any.whl (348 kB)\n",
            "     -------------------------------------- 348.5/348.5 kB 5.5 MB/s eta 0:00:00\n",
            "Collecting alembic>=1.5.0\n",
            "  Downloading alembic-1.8.1-py3-none-any.whl (209 kB)\n",
            "     ------------------------------------- 209.8/209.8 kB 13.3 MB/s eta 0:00:00\n",
            "Requirement already satisfied: importlib-metadata<5.0.0 in c:\\users\\james\\anaconda3\\lib\\site-packages (from optuna) (4.11.3)\n",
            "Requirement already satisfied: packaging>=20.0 in c:\\users\\james\\anaconda3\\lib\\site-packages (from optuna) (21.3)\n",
            "Requirement already satisfied: tqdm in c:\\users\\james\\anaconda3\\lib\\site-packages (from optuna) (4.64.1)\n",
            "Collecting cmaes>=0.8.2\n",
            "  Downloading cmaes-0.9.0-py3-none-any.whl (23 kB)\n",
            "Collecting cliff\n",
            "  Downloading cliff-4.0.0-py3-none-any.whl (80 kB)\n",
            "     -------------------------------------- 81.0/81.0 kB 906.6 kB/s eta 0:00:00\n",
            "Requirement already satisfied: numpy in c:\\users\\james\\anaconda3\\lib\\site-packages (from optuna) (1.21.5)\n",
            "Collecting scipy<1.9.0,>=1.7.0\n",
            "  Downloading scipy-1.8.1-cp39-cp39-win_amd64.whl (36.9 MB)\n",
            "     --------------------------------------- 36.9/36.9 MB 15.2 MB/s eta 0:00:00\n",
            "Requirement already satisfied: PyYAML in c:\\users\\james\\anaconda3\\lib\\site-packages (from optuna) (6.0)\n",
            "Requirement already satisfied: sqlalchemy>=1.3.0 in c:\\users\\james\\anaconda3\\lib\\site-packages (from optuna) (1.4.39)\n",
            "Collecting colorlog\n",
            "  Downloading colorlog-6.7.0-py2.py3-none-any.whl (11 kB)\n",
            "Collecting Mako\n",
            "  Downloading Mako-1.2.3-py3-none-any.whl (78 kB)\n",
            "     ---------------------------------------- 78.7/78.7 kB ? eta 0:00:00\n",
            "Requirement already satisfied: zipp>=0.5 in c:\\users\\james\\anaconda3\\lib\\site-packages (from importlib-metadata<5.0.0->optuna) (3.8.0)\n",
            "Requirement already satisfied: pyparsing!=3.0.5,>=2.0.2 in c:\\users\\james\\anaconda3\\lib\\site-packages (from packaging>=20.0->optuna) (3.0.9)\n",
            "Requirement already satisfied: greenlet!=0.4.17 in c:\\users\\james\\anaconda3\\lib\\site-packages (from sqlalchemy>=1.3.0->optuna) (1.1.1)\n",
            "Collecting cmd2>=1.0.0\n",
            "  Downloading cmd2-2.4.2-py3-none-any.whl (147 kB)\n",
            "     -------------------------------------- 147.1/147.1 kB 8.6 MB/s eta 0:00:00\n",
            "Collecting autopage>=0.4.0\n",
            "  Downloading autopage-0.5.1-py3-none-any.whl (29 kB)\n",
            "Collecting PrettyTable>=0.7.2\n",
            "  Downloading prettytable-3.5.0-py3-none-any.whl (26 kB)\n",
            "Collecting stevedore>=2.0.1\n",
            "  Downloading stevedore-4.1.1-py3-none-any.whl (50 kB)\n",
            "     ---------------------------------------- 50.0/50.0 kB 2.5 MB/s eta 0:00:00\n",
            "Requirement already satisfied: colorama in c:\\users\\james\\anaconda3\\lib\\site-packages (from colorlog->optuna) (0.4.5)\n",
            "Collecting pyreadline3\n",
            "  Downloading pyreadline3-3.4.1-py3-none-any.whl (95 kB)\n",
            "     ---------------------------------------- 95.2/95.2 kB 5.3 MB/s eta 0:00:00\n",
            "Requirement already satisfied: attrs>=16.3.0 in c:\\users\\james\\anaconda3\\lib\\site-packages (from cmd2>=1.0.0->cliff->optuna) (21.4.0)\n",
            "Requirement already satisfied: wcwidth>=0.1.7 in c:\\users\\james\\anaconda3\\lib\\site-packages (from cmd2>=1.0.0->cliff->optuna) (0.2.5)\n",
            "Collecting pyperclip>=1.6\n",
            "  Downloading pyperclip-1.8.2.tar.gz (20 kB)\n",
            "  Preparing metadata (setup.py): started\n",
            "  Preparing metadata (setup.py): finished with status 'done'\n",
            "Collecting pbr!=2.1.0,>=2.0.0\n",
            "  Downloading pbr-5.11.0-py2.py3-none-any.whl (112 kB)\n",
            "     -------------------------------------- 112.6/112.6 kB 6.4 MB/s eta 0:00:00\n",
            "Requirement already satisfied: MarkupSafe>=0.9.2 in c:\\users\\james\\anaconda3\\lib\\site-packages (from Mako->alembic>=1.5.0->optuna) (2.0.1)\n",
            "Building wheels for collected packages: pyperclip\n",
            "  Building wheel for pyperclip (setup.py): started\n",
            "  Building wheel for pyperclip (setup.py): finished with status 'done'\n",
            "  Created wheel for pyperclip: filename=pyperclip-1.8.2-py3-none-any.whl size=11123 sha256=4e26908b5fb706de23733efa9d3a0929eb6ec7d4b87f318f542f70022747964a\n",
            "  Stored in directory: c:\\users\\james\\appdata\\local\\pip\\cache\\wheels\\0c\\09\\9e\\49e21a6840ef7955b06d47394afef0058f0378c0914e48b8b8\n",
            "Successfully built pyperclip\n",
            "Installing collected packages: pyreadline3, pyperclip, scipy, PrettyTable, pbr, Mako, colorlog, cmd2, cmaes, autopage, stevedore, alembic, cliff, optuna\n",
            "  Attempting uninstall: scipy\n",
            "    Found existing installation: scipy 1.9.1\n",
            "    Uninstalling scipy-1.9.1:\n",
            "      Successfully uninstalled scipy-1.9.1\n",
            "Successfully installed Mako-1.2.3 PrettyTable-3.5.0 alembic-1.8.1 autopage-0.5.1 cliff-4.0.0 cmaes-0.9.0 cmd2-2.4.2 colorlog-6.7.0 optuna-3.0.3 pbr-5.11.0 pyperclip-1.8.2 pyreadline3-3.4.1 scipy-1.8.1 stevedore-4.1.1\n",
            "Note: you may need to restart the kernel to use updated packages.\n"
          ]
        }
      ],
      "source": [
        "pip install optuna"
      ]
    },
    {
      "cell_type": "code",
      "execution_count": 3,
      "metadata": {
        "id": "6ZWkau7zzXUc"
      },
      "outputs": [],
      "source": [
        "import pandas as pd\n",
        "import optuna\n",
        "import numpy as np"
      ]
    },
    {
      "cell_type": "markdown",
      "metadata": {
        "id": "L51YaiI47l0G"
      },
      "source": [
        "# Load and Prep Data"
      ]
    },
    {
      "cell_type": "code",
      "execution_count": 4,
      "metadata": {
        "colab": {
          "base_uri": "https://localhost:8080/",
          "height": 300
        },
        "id": "kM2bRzqqzWF7",
        "outputId": "27e8e357-03db-4c93-c33a-58b3f3a5aa33"
      },
      "outputs": [
        {
          "data": {
            "text/html": [
              "<div>\n",
              "<style scoped>\n",
              "    .dataframe tbody tr th:only-of-type {\n",
              "        vertical-align: middle;\n",
              "    }\n",
              "\n",
              "    .dataframe tbody tr th {\n",
              "        vertical-align: top;\n",
              "    }\n",
              "\n",
              "    .dataframe thead th {\n",
              "        text-align: right;\n",
              "    }\n",
              "</style>\n",
              "<table border=\"1\" class=\"dataframe\">\n",
              "  <thead>\n",
              "    <tr style=\"text-align: right;\">\n",
              "      <th></th>\n",
              "      <th>Duration</th>\n",
              "      <th>Amount</th>\n",
              "      <th>InstallmentRatePercentage</th>\n",
              "      <th>ResidenceDuration</th>\n",
              "      <th>Age</th>\n",
              "      <th>NumberExistingCredits</th>\n",
              "      <th>NumberPeopleMaintenance</th>\n",
              "      <th>Telephone</th>\n",
              "      <th>ForeignWorker</th>\n",
              "      <th>Class</th>\n",
              "      <th>...</th>\n",
              "      <th>OtherInstallmentPlans.Bank</th>\n",
              "      <th>OtherInstallmentPlans.Stores</th>\n",
              "      <th>OtherInstallmentPlans.None</th>\n",
              "      <th>Housing.Rent</th>\n",
              "      <th>Housing.Own</th>\n",
              "      <th>Housing.ForFree</th>\n",
              "      <th>Job.UnemployedUnskilled</th>\n",
              "      <th>Job.UnskilledResident</th>\n",
              "      <th>Job.SkilledEmployee</th>\n",
              "      <th>Job.Management.SelfEmp.HighlyQualified</th>\n",
              "    </tr>\n",
              "  </thead>\n",
              "  <tbody>\n",
              "    <tr>\n",
              "      <th>0</th>\n",
              "      <td>6</td>\n",
              "      <td>1169</td>\n",
              "      <td>4</td>\n",
              "      <td>4</td>\n",
              "      <td>67</td>\n",
              "      <td>2</td>\n",
              "      <td>1</td>\n",
              "      <td>0</td>\n",
              "      <td>1</td>\n",
              "      <td>Good</td>\n",
              "      <td>...</td>\n",
              "      <td>0</td>\n",
              "      <td>0</td>\n",
              "      <td>1</td>\n",
              "      <td>0</td>\n",
              "      <td>1</td>\n",
              "      <td>0</td>\n",
              "      <td>0</td>\n",
              "      <td>0</td>\n",
              "      <td>1</td>\n",
              "      <td>0</td>\n",
              "    </tr>\n",
              "    <tr>\n",
              "      <th>1</th>\n",
              "      <td>48</td>\n",
              "      <td>5951</td>\n",
              "      <td>2</td>\n",
              "      <td>2</td>\n",
              "      <td>22</td>\n",
              "      <td>1</td>\n",
              "      <td>1</td>\n",
              "      <td>1</td>\n",
              "      <td>1</td>\n",
              "      <td>Bad</td>\n",
              "      <td>...</td>\n",
              "      <td>0</td>\n",
              "      <td>0</td>\n",
              "      <td>1</td>\n",
              "      <td>0</td>\n",
              "      <td>1</td>\n",
              "      <td>0</td>\n",
              "      <td>0</td>\n",
              "      <td>0</td>\n",
              "      <td>1</td>\n",
              "      <td>0</td>\n",
              "    </tr>\n",
              "    <tr>\n",
              "      <th>2</th>\n",
              "      <td>12</td>\n",
              "      <td>2096</td>\n",
              "      <td>2</td>\n",
              "      <td>3</td>\n",
              "      <td>49</td>\n",
              "      <td>1</td>\n",
              "      <td>2</td>\n",
              "      <td>1</td>\n",
              "      <td>1</td>\n",
              "      <td>Good</td>\n",
              "      <td>...</td>\n",
              "      <td>0</td>\n",
              "      <td>0</td>\n",
              "      <td>1</td>\n",
              "      <td>0</td>\n",
              "      <td>1</td>\n",
              "      <td>0</td>\n",
              "      <td>0</td>\n",
              "      <td>1</td>\n",
              "      <td>0</td>\n",
              "      <td>0</td>\n",
              "    </tr>\n",
              "    <tr>\n",
              "      <th>3</th>\n",
              "      <td>42</td>\n",
              "      <td>7882</td>\n",
              "      <td>2</td>\n",
              "      <td>4</td>\n",
              "      <td>45</td>\n",
              "      <td>1</td>\n",
              "      <td>2</td>\n",
              "      <td>1</td>\n",
              "      <td>1</td>\n",
              "      <td>Good</td>\n",
              "      <td>...</td>\n",
              "      <td>0</td>\n",
              "      <td>0</td>\n",
              "      <td>1</td>\n",
              "      <td>0</td>\n",
              "      <td>0</td>\n",
              "      <td>1</td>\n",
              "      <td>0</td>\n",
              "      <td>0</td>\n",
              "      <td>1</td>\n",
              "      <td>0</td>\n",
              "    </tr>\n",
              "    <tr>\n",
              "      <th>4</th>\n",
              "      <td>24</td>\n",
              "      <td>4870</td>\n",
              "      <td>3</td>\n",
              "      <td>4</td>\n",
              "      <td>53</td>\n",
              "      <td>2</td>\n",
              "      <td>2</td>\n",
              "      <td>1</td>\n",
              "      <td>1</td>\n",
              "      <td>Bad</td>\n",
              "      <td>...</td>\n",
              "      <td>0</td>\n",
              "      <td>0</td>\n",
              "      <td>1</td>\n",
              "      <td>0</td>\n",
              "      <td>0</td>\n",
              "      <td>1</td>\n",
              "      <td>0</td>\n",
              "      <td>0</td>\n",
              "      <td>1</td>\n",
              "      <td>0</td>\n",
              "    </tr>\n",
              "  </tbody>\n",
              "</table>\n",
              "<p>5 rows × 62 columns</p>\n",
              "</div>"
            ],
            "text/plain": [
              "   Duration  Amount  InstallmentRatePercentage  ResidenceDuration  Age  \\\n",
              "0         6    1169                          4                  4   67   \n",
              "1        48    5951                          2                  2   22   \n",
              "2        12    2096                          2                  3   49   \n",
              "3        42    7882                          2                  4   45   \n",
              "4        24    4870                          3                  4   53   \n",
              "\n",
              "   NumberExistingCredits  NumberPeopleMaintenance  Telephone  ForeignWorker  \\\n",
              "0                      2                        1          0              1   \n",
              "1                      1                        1          1              1   \n",
              "2                      1                        2          1              1   \n",
              "3                      1                        2          1              1   \n",
              "4                      2                        2          1              1   \n",
              "\n",
              "  Class  ...  OtherInstallmentPlans.Bank  OtherInstallmentPlans.Stores  \\\n",
              "0  Good  ...                           0                             0   \n",
              "1   Bad  ...                           0                             0   \n",
              "2  Good  ...                           0                             0   \n",
              "3  Good  ...                           0                             0   \n",
              "4   Bad  ...                           0                             0   \n",
              "\n",
              "   OtherInstallmentPlans.None  Housing.Rent  Housing.Own  Housing.ForFree  \\\n",
              "0                           1             0            1                0   \n",
              "1                           1             0            1                0   \n",
              "2                           1             0            1                0   \n",
              "3                           1             0            0                1   \n",
              "4                           1             0            0                1   \n",
              "\n",
              "   Job.UnemployedUnskilled  Job.UnskilledResident  Job.SkilledEmployee  \\\n",
              "0                        0                      0                    1   \n",
              "1                        0                      0                    1   \n",
              "2                        0                      1                    0   \n",
              "3                        0                      0                    1   \n",
              "4                        0                      0                    1   \n",
              "\n",
              "   Job.Management.SelfEmp.HighlyQualified  \n",
              "0                                       0  \n",
              "1                                       0  \n",
              "2                                       0  \n",
              "3                                       0  \n",
              "4                                       0  \n",
              "\n",
              "[5 rows x 62 columns]"
            ]
          },
          "execution_count": 4,
          "metadata": {},
          "output_type": "execute_result"
        }
      ],
      "source": [
        "df = pd.read_csv(\"https://raw.githubusercontent.com/stepthom/869_course/main/data/GermanCredit.csv\")\n",
        "df.head()"
      ]
    },
    {
      "cell_type": "code",
      "execution_count": 5,
      "metadata": {
        "id": "OBuv_x2VzguL"
      },
      "outputs": [],
      "source": [
        "target_name = 'Class'\n",
        "X = df.drop([target_name], axis=1)\n",
        "y = df[target_name].to_numpy()"
      ]
    },
    {
      "cell_type": "markdown",
      "metadata": {
        "id": "fwP8jrpk7cfN"
      },
      "source": [
        "# Create and Run an Optuna Study"
      ]
    },
    {
      "cell_type": "markdown",
      "metadata": {
        "id": "lMZnnCiw7rLf"
      },
      "source": [
        "First we must create an objective function. This is a function that builds a model (given a particular values for all hyperparameters) and returns a score.\n",
        "\n",
        "Read more in the tutorials: https://optuna.readthedocs.io/en/stable/tutorial/index.html"
      ]
    },
    {
      "cell_type": "code",
      "execution_count": 6,
      "metadata": {
        "id": "cT-jmjKsBrDl"
      },
      "outputs": [],
      "source": [
        "from sklearn.tree import DecisionTreeClassifier\n",
        "from sklearn.model_selection import cross_val_score\n",
        "\n",
        "\n",
        "def objective_dt(trial, X, y):\n",
        "\n",
        "  # Now, define all the hyperparams we want to vary, and what values they are allowed\n",
        "  # to take.\n",
        "  #\n",
        "  # Each trial, optuna will automatically choose values for each hyperparam.\n",
        "  hyper_params = {\n",
        "        \n",
        "        'criterion': trial.suggest_categorical('criterion', ['gini', 'entropy']),\n",
        "        'splitter': trial.suggest_categorical('splitter', ['best', 'random']),\n",
        "\n",
        "        \"max_depth\": trial.suggest_int(\"max_depth\", 5, 100, step=5),\n",
        "\n",
        "        \"min_samples_split\": trial.suggest_int(\"min_samples_split\", 5, 100, step=5),\n",
        "        \"min_samples_leaf\": trial.suggest_int(\"min_samples_leaf\", 5, 100, step=5),\n",
        "        \"max_leaf_nodes\": trial.suggest_int(\"max_leaf_nodes\", 10, 1010, step=100),\n",
        "\n",
        "        'class_weight': trial.suggest_categorical('class_weight', ['balanced', None]),\n",
        "\n",
        "        \"random_state\": 77,\n",
        "  }\n",
        "    \n",
        "\n",
        "  # Use the hyperparams that optuna has chosen for this trial to create a DecisionTreeClassifier\n",
        "  clf = DecisionTreeClassifier(**hyper_params)\n",
        "\n",
        "  # Run CV to see how well these hyper_params do\n",
        "  cv_scores = cross_val_score(clf, X, y, cv=10, scoring=\"f1_macro\")\n",
        "  score = np.mean(cv_scores)\n",
        "\n",
        "  # Whatever we return here tells optuna how well these parameters did\n",
        "  return score"
      ]
    },
    {
      "cell_type": "code",
      "execution_count": 7,
      "metadata": {
        "colab": {
          "base_uri": "https://localhost:8080/"
        },
        "id": "4D0Mv-k60BL9",
        "outputId": "a81b38e3-cc0e-4cb5-95cf-b7f425f0b7c7"
      },
      "outputs": [
        {
          "name": "stderr",
          "output_type": "stream",
          "text": [
            "\u001b[32m[I 2022-11-13 17:05:36,693]\u001b[0m A new study created in memory with name: no-name-1e24de8b-a501-4b57-8a59-9842021ec4ad\u001b[0m\n"
          ]
        }
      ],
      "source": [
        "# Create and run an Optuna study\n",
        "\n",
        "# More options for creating the optuna study can be found at their webpage:\n",
        "# https://optuna.readthedocs.io/en/stable/reference/generated/optuna.create_study.html\n",
        "#\n",
        "# The default sampler is called TPESampler and is very good, but there are others.\n",
        "\n",
        "study = optuna.create_study(direction=\"maximize\")\n"
      ]
    },
    {
      "cell_type": "code",
      "execution_count": 8,
      "metadata": {
        "colab": {
          "base_uri": "https://localhost:8080/"
        },
        "id": "0TXdbBA57b8s",
        "outputId": "9f696706-9abe-4a5c-82b8-e5d8848a4dbf"
      },
      "outputs": [
        {
          "name": "stderr",
          "output_type": "stream",
          "text": [
            "\u001b[32m[I 2022-11-13 17:05:52,528]\u001b[0m Trial 0 finished with value: 0.6337857831520763 and parameters: {'criterion': 'entropy', 'splitter': 'random', 'max_depth': 80, 'min_samples_split': 30, 'min_samples_leaf': 100, 'max_leaf_nodes': 10, 'class_weight': 'balanced'}. Best is trial 0 with value: 0.6337857831520763.\u001b[0m\n",
            "\u001b[32m[I 2022-11-13 17:05:52,818]\u001b[0m Trial 1 finished with value: 0.6494559803481313 and parameters: {'criterion': 'gini', 'splitter': 'best', 'max_depth': 25, 'min_samples_split': 85, 'min_samples_leaf': 5, 'max_leaf_nodes': 1010, 'class_weight': 'balanced'}. Best is trial 1 with value: 0.6494559803481313.\u001b[0m\n",
            "\u001b[32m[I 2022-11-13 17:05:53,100]\u001b[0m Trial 2 finished with value: 0.6401232747569949 and parameters: {'criterion': 'entropy', 'splitter': 'random', 'max_depth': 60, 'min_samples_split': 40, 'min_samples_leaf': 50, 'max_leaf_nodes': 710, 'class_weight': 'balanced'}. Best is trial 1 with value: 0.6494559803481313.\u001b[0m\n",
            "\u001b[32m[I 2022-11-13 17:05:53,495]\u001b[0m Trial 3 finished with value: 0.6200287138909444 and parameters: {'criterion': 'entropy', 'splitter': 'random', 'max_depth': 10, 'min_samples_split': 85, 'min_samples_leaf': 55, 'max_leaf_nodes': 110, 'class_weight': None}. Best is trial 1 with value: 0.6494559803481313.\u001b[0m\n",
            "\u001b[32m[I 2022-11-13 17:05:53,809]\u001b[0m Trial 4 finished with value: 0.5980719571880841 and parameters: {'criterion': 'entropy', 'splitter': 'best', 'max_depth': 55, 'min_samples_split': 15, 'min_samples_leaf': 60, 'max_leaf_nodes': 710, 'class_weight': None}. Best is trial 1 with value: 0.6494559803481313.\u001b[0m\n",
            "\u001b[32m[I 2022-11-13 17:05:54,009]\u001b[0m Trial 5 finished with value: 0.6248805589694888 and parameters: {'criterion': 'entropy', 'splitter': 'random', 'max_depth': 100, 'min_samples_split': 10, 'min_samples_leaf': 75, 'max_leaf_nodes': 810, 'class_weight': None}. Best is trial 1 with value: 0.6494559803481313.\u001b[0m\n",
            "\u001b[32m[I 2022-11-13 17:05:54,249]\u001b[0m Trial 6 finished with value: 0.6239157254860794 and parameters: {'criterion': 'entropy', 'splitter': 'best', 'max_depth': 10, 'min_samples_split': 45, 'min_samples_leaf': 30, 'max_leaf_nodes': 710, 'class_weight': 'balanced'}. Best is trial 1 with value: 0.6494559803481313.\u001b[0m\n",
            "\u001b[32m[I 2022-11-13 17:05:54,460]\u001b[0m Trial 7 finished with value: 0.6175122297095158 and parameters: {'criterion': 'gini', 'splitter': 'random', 'max_depth': 20, 'min_samples_split': 40, 'min_samples_leaf': 55, 'max_leaf_nodes': 510, 'class_weight': None}. Best is trial 1 with value: 0.6494559803481313.\u001b[0m\n",
            "\u001b[32m[I 2022-11-13 17:05:54,711]\u001b[0m Trial 8 finished with value: 0.6387109328991565 and parameters: {'criterion': 'gini', 'splitter': 'random', 'max_depth': 65, 'min_samples_split': 50, 'min_samples_leaf': 15, 'max_leaf_nodes': 510, 'class_weight': 'balanced'}. Best is trial 1 with value: 0.6494559803481313.\u001b[0m\n",
            "\u001b[32m[I 2022-11-13 17:05:54,910]\u001b[0m Trial 9 finished with value: 0.6311157826051206 and parameters: {'criterion': 'gini', 'splitter': 'random', 'max_depth': 5, 'min_samples_split': 35, 'min_samples_leaf': 100, 'max_leaf_nodes': 410, 'class_weight': None}. Best is trial 1 with value: 0.6494559803481313.\u001b[0m\n",
            "\u001b[32m[I 2022-11-13 17:05:55,214]\u001b[0m Trial 10 finished with value: 0.6416132382994515 and parameters: {'criterion': 'gini', 'splitter': 'best', 'max_depth': 35, 'min_samples_split': 100, 'min_samples_leaf': 5, 'max_leaf_nodes': 1010, 'class_weight': 'balanced'}. Best is trial 1 with value: 0.6494559803481313.\u001b[0m\n",
            "\u001b[32m[I 2022-11-13 17:05:55,468]\u001b[0m Trial 11 finished with value: 0.6449509273154448 and parameters: {'criterion': 'gini', 'splitter': 'best', 'max_depth': 35, 'min_samples_split': 95, 'min_samples_leaf': 5, 'max_leaf_nodes': 1010, 'class_weight': 'balanced'}. Best is trial 1 with value: 0.6494559803481313.\u001b[0m\n",
            "\u001b[32m[I 2022-11-13 17:05:55,769]\u001b[0m Trial 12 finished with value: 0.6485506998454602 and parameters: {'criterion': 'gini', 'splitter': 'best', 'max_depth': 35, 'min_samples_split': 75, 'min_samples_leaf': 25, 'max_leaf_nodes': 1010, 'class_weight': 'balanced'}. Best is trial 1 with value: 0.6494559803481313.\u001b[0m\n",
            "\u001b[32m[I 2022-11-13 17:05:56,042]\u001b[0m Trial 13 finished with value: 0.6374959620423287 and parameters: {'criterion': 'gini', 'splitter': 'best', 'max_depth': 35, 'min_samples_split': 70, 'min_samples_leaf': 30, 'max_leaf_nodes': 910, 'class_weight': 'balanced'}. Best is trial 1 with value: 0.6494559803481313.\u001b[0m\n",
            "\u001b[32m[I 2022-11-13 17:05:56,284]\u001b[0m Trial 14 finished with value: 0.6434618380000998 and parameters: {'criterion': 'gini', 'splitter': 'best', 'max_depth': 30, 'min_samples_split': 65, 'min_samples_leaf': 25, 'max_leaf_nodes': 310, 'class_weight': 'balanced'}. Best is trial 1 with value: 0.6494559803481313.\u001b[0m\n",
            "\u001b[32m[I 2022-11-13 17:05:56,530]\u001b[0m Trial 15 finished with value: 0.6353940875704268 and parameters: {'criterion': 'gini', 'splitter': 'best', 'max_depth': 45, 'min_samples_split': 70, 'min_samples_leaf': 40, 'max_leaf_nodes': 910, 'class_weight': 'balanced'}. Best is trial 1 with value: 0.6494559803481313.\u001b[0m\n",
            "\u001b[32m[I 2022-11-13 17:05:56,785]\u001b[0m Trial 16 finished with value: 0.6373207804443313 and parameters: {'criterion': 'gini', 'splitter': 'best', 'max_depth': 20, 'min_samples_split': 85, 'min_samples_leaf': 15, 'max_leaf_nodes': 1010, 'class_weight': 'balanced'}. Best is trial 1 with value: 0.6494559803481313.\u001b[0m\n",
            "\u001b[32m[I 2022-11-13 17:05:57,042]\u001b[0m Trial 17 finished with value: 0.6390129029511095 and parameters: {'criterion': 'gini', 'splitter': 'best', 'max_depth': 50, 'min_samples_split': 60, 'min_samples_leaf': 20, 'max_leaf_nodes': 810, 'class_weight': 'balanced'}. Best is trial 1 with value: 0.6494559803481313.\u001b[0m\n",
            "\u001b[32m[I 2022-11-13 17:05:57,326]\u001b[0m Trial 18 finished with value: 0.6353940875704268 and parameters: {'criterion': 'gini', 'splitter': 'best', 'max_depth': 70, 'min_samples_split': 80, 'min_samples_leaf': 40, 'max_leaf_nodes': 210, 'class_weight': 'balanced'}. Best is trial 1 with value: 0.6494559803481313.\u001b[0m\n",
            "\u001b[32m[I 2022-11-13 17:05:57,574]\u001b[0m Trial 19 finished with value: 0.6502558084537119 and parameters: {'criterion': 'gini', 'splitter': 'best', 'max_depth': 20, 'min_samples_split': 80, 'min_samples_leaf': 5, 'max_leaf_nodes': 610, 'class_weight': 'balanced'}. Best is trial 19 with value: 0.6502558084537119.\u001b[0m\n",
            "\u001b[32m[I 2022-11-13 17:05:57,809]\u001b[0m Trial 20 finished with value: 0.6332923527536095 and parameters: {'criterion': 'gini', 'splitter': 'best', 'max_depth': 20, 'min_samples_split': 90, 'min_samples_leaf': 70, 'max_leaf_nodes': 510, 'class_weight': 'balanced'}. Best is trial 19 with value: 0.6502558084537119.\u001b[0m\n",
            "\u001b[32m[I 2022-11-13 17:05:58,056]\u001b[0m Trial 21 finished with value: 0.6524667181179707 and parameters: {'criterion': 'gini', 'splitter': 'best', 'max_depth': 25, 'min_samples_split': 75, 'min_samples_leaf': 5, 'max_leaf_nodes': 910, 'class_weight': 'balanced'}. Best is trial 21 with value: 0.6524667181179707.\u001b[0m\n",
            "\u001b[32m[I 2022-11-13 17:05:58,312]\u001b[0m Trial 22 finished with value: 0.6513856951559968 and parameters: {'criterion': 'gini', 'splitter': 'best', 'max_depth': 20, 'min_samples_split': 60, 'min_samples_leaf': 5, 'max_leaf_nodes': 610, 'class_weight': 'balanced'}. Best is trial 21 with value: 0.6524667181179707.\u001b[0m\n",
            "\u001b[32m[I 2022-11-13 17:05:58,579]\u001b[0m Trial 23 finished with value: 0.6435773431508942 and parameters: {'criterion': 'gini', 'splitter': 'best', 'max_depth': 15, 'min_samples_split': 55, 'min_samples_leaf': 15, 'max_leaf_nodes': 410, 'class_weight': 'balanced'}. Best is trial 21 with value: 0.6524667181179707.\u001b[0m\n",
            "\u001b[32m[I 2022-11-13 17:05:58,850]\u001b[0m Trial 24 finished with value: 0.6394274176661184 and parameters: {'criterion': 'gini', 'splitter': 'best', 'max_depth': 45, 'min_samples_split': 60, 'min_samples_leaf': 10, 'max_leaf_nodes': 610, 'class_weight': 'balanced'}. Best is trial 21 with value: 0.6524667181179707.\u001b[0m\n",
            "\u001b[32m[I 2022-11-13 17:05:59,093]\u001b[0m Trial 25 finished with value: 0.6353124432456747 and parameters: {'criterion': 'gini', 'splitter': 'best', 'max_depth': 5, 'min_samples_split': 75, 'min_samples_leaf': 40, 'max_leaf_nodes': 610, 'class_weight': 'balanced'}. Best is trial 21 with value: 0.6524667181179707.\u001b[0m\n",
            "\u001b[32m[I 2022-11-13 17:05:59,347]\u001b[0m Trial 26 finished with value: 0.6559461631511894 and parameters: {'criterion': 'gini', 'splitter': 'best', 'max_depth': 25, 'min_samples_split': 65, 'min_samples_leaf': 5, 'max_leaf_nodes': 810, 'class_weight': 'balanced'}. Best is trial 26 with value: 0.6559461631511894.\u001b[0m\n",
            "\u001b[32m[I 2022-11-13 17:05:59,625]\u001b[0m Trial 27 finished with value: 0.6340641524729376 and parameters: {'criterion': 'gini', 'splitter': 'best', 'max_depth': 45, 'min_samples_split': 55, 'min_samples_leaf': 15, 'max_leaf_nodes': 910, 'class_weight': None}. Best is trial 26 with value: 0.6559461631511894.\u001b[0m\n",
            "\u001b[32m[I 2022-11-13 17:05:59,906]\u001b[0m Trial 28 finished with value: 0.6434618380000998 and parameters: {'criterion': 'gini', 'splitter': 'best', 'max_depth': 30, 'min_samples_split': 65, 'min_samples_leaf': 25, 'max_leaf_nodes': 810, 'class_weight': 'balanced'}. Best is trial 26 with value: 0.6559461631511894.\u001b[0m\n",
            "\u001b[32m[I 2022-11-13 17:06:00,195]\u001b[0m Trial 29 finished with value: 0.6284632832645787 and parameters: {'criterion': 'entropy', 'splitter': 'best', 'max_depth': 85, 'min_samples_split': 20, 'min_samples_leaf': 95, 'max_leaf_nodes': 10, 'class_weight': 'balanced'}. Best is trial 26 with value: 0.6559461631511894.\u001b[0m\n",
            "\u001b[32m[I 2022-11-13 17:06:00,466]\u001b[0m Trial 30 finished with value: 0.6457990721901357 and parameters: {'criterion': 'gini', 'splitter': 'best', 'max_depth': 25, 'min_samples_split': 25, 'min_samples_leaf': 35, 'max_leaf_nodes': 810, 'class_weight': 'balanced'}. Best is trial 26 with value: 0.6559461631511894.\u001b[0m\n",
            "\u001b[32m[I 2022-11-13 17:06:00,750]\u001b[0m Trial 31 finished with value: 0.6548069727887468 and parameters: {'criterion': 'gini', 'splitter': 'best', 'max_depth': 10, 'min_samples_split': 75, 'min_samples_leaf': 5, 'max_leaf_nodes': 610, 'class_weight': 'balanced'}. Best is trial 26 with value: 0.6559461631511894.\u001b[0m\n",
            "\u001b[32m[I 2022-11-13 17:06:01,006]\u001b[0m Trial 32 finished with value: 0.6494062383635992 and parameters: {'criterion': 'gini', 'splitter': 'best', 'max_depth': 10, 'min_samples_split': 65, 'min_samples_leaf': 10, 'max_leaf_nodes': 710, 'class_weight': 'balanced'}. Best is trial 26 with value: 0.6559461631511894.\u001b[0m\n",
            "\u001b[32m[I 2022-11-13 17:06:01,302]\u001b[0m Trial 33 finished with value: 0.6457442095712658 and parameters: {'criterion': 'gini', 'splitter': 'best', 'max_depth': 15, 'min_samples_split': 75, 'min_samples_leaf': 10, 'max_leaf_nodes': 610, 'class_weight': 'balanced'}. Best is trial 26 with value: 0.6559461631511894.\u001b[0m\n",
            "\u001b[32m[I 2022-11-13 17:06:01,662]\u001b[0m Trial 34 finished with value: 0.6455974093916259 and parameters: {'criterion': 'gini', 'splitter': 'best', 'max_depth': 25, 'min_samples_split': 50, 'min_samples_leaf': 5, 'max_leaf_nodes': 710, 'class_weight': 'balanced'}. Best is trial 26 with value: 0.6559461631511894.\u001b[0m\n",
            "\u001b[32m[I 2022-11-13 17:06:02,253]\u001b[0m Trial 35 finished with value: 0.6446852294972751 and parameters: {'criterion': 'entropy', 'splitter': 'random', 'max_depth': 15, 'min_samples_split': 90, 'min_samples_leaf': 20, 'max_leaf_nodes': 910, 'class_weight': 'balanced'}. Best is trial 26 with value: 0.6559461631511894.\u001b[0m\n",
            "\u001b[32m[I 2022-11-13 17:06:02,626]\u001b[0m Trial 36 finished with value: 0.5768632941665126 and parameters: {'criterion': 'gini', 'splitter': 'best', 'max_depth': 5, 'min_samples_split': 60, 'min_samples_leaf': 20, 'max_leaf_nodes': 410, 'class_weight': None}. Best is trial 26 with value: 0.6559461631511894.\u001b[0m\n",
            "\u001b[32m[I 2022-11-13 17:06:02,856]\u001b[0m Trial 37 finished with value: 0.6532951633311378 and parameters: {'criterion': 'entropy', 'splitter': 'best', 'max_depth': 30, 'min_samples_split': 70, 'min_samples_leaf': 10, 'max_leaf_nodes': 810, 'class_weight': 'balanced'}. Best is trial 26 with value: 0.6559461631511894.\u001b[0m\n",
            "\u001b[32m[I 2022-11-13 17:06:03,061]\u001b[0m Trial 38 finished with value: 0.6296578423247352 and parameters: {'criterion': 'entropy', 'splitter': 'random', 'max_depth': 30, 'min_samples_split': 80, 'min_samples_leaf': 10, 'max_leaf_nodes': 810, 'class_weight': None}. Best is trial 26 with value: 0.6559461631511894.\u001b[0m\n",
            "\u001b[32m[I 2022-11-13 17:06:03,286]\u001b[0m Trial 39 finished with value: 0.6338806093677296 and parameters: {'criterion': 'entropy', 'splitter': 'best', 'max_depth': 40, 'min_samples_split': 70, 'min_samples_leaf': 75, 'max_leaf_nodes': 910, 'class_weight': 'balanced'}. Best is trial 26 with value: 0.6559461631511894.\u001b[0m\n",
            "\u001b[32m[I 2022-11-13 17:06:03,490]\u001b[0m Trial 40 finished with value: 0.6444532672365215 and parameters: {'criterion': 'entropy', 'splitter': 'random', 'max_depth': 10, 'min_samples_split': 85, 'min_samples_leaf': 45, 'max_leaf_nodes': 710, 'class_weight': 'balanced'}. Best is trial 26 with value: 0.6559461631511894.\u001b[0m\n",
            "\u001b[32m[I 2022-11-13 17:06:03,725]\u001b[0m Trial 41 finished with value: 0.6608129329813139 and parameters: {'criterion': 'entropy', 'splitter': 'best', 'max_depth': 25, 'min_samples_split': 70, 'min_samples_leaf': 5, 'max_leaf_nodes': 710, 'class_weight': 'balanced'}. Best is trial 41 with value: 0.6608129329813139.\u001b[0m\n",
            "\u001b[32m[I 2022-11-13 17:06:04,001]\u001b[0m Trial 42 finished with value: 0.6532951633311378 and parameters: {'criterion': 'entropy', 'splitter': 'best', 'max_depth': 25, 'min_samples_split': 70, 'min_samples_leaf': 10, 'max_leaf_nodes': 810, 'class_weight': 'balanced'}. Best is trial 41 with value: 0.6608129329813139.\u001b[0m\n",
            "\u001b[32m[I 2022-11-13 17:06:04,299]\u001b[0m Trial 43 finished with value: 0.6237341599706951 and parameters: {'criterion': 'entropy', 'splitter': 'best', 'max_depth': 25, 'min_samples_split': 45, 'min_samples_leaf': 15, 'max_leaf_nodes': 810, 'class_weight': 'balanced'}. Best is trial 41 with value: 0.6608129329813139.\u001b[0m\n",
            "\u001b[32m[I 2022-11-13 17:06:04,528]\u001b[0m Trial 44 finished with value: 0.6532951633311378 and parameters: {'criterion': 'entropy', 'splitter': 'best', 'max_depth': 55, 'min_samples_split': 70, 'min_samples_leaf': 10, 'max_leaf_nodes': 710, 'class_weight': 'balanced'}. Best is trial 41 with value: 0.6608129329813139.\u001b[0m\n",
            "\u001b[32m[I 2022-11-13 17:06:04,840]\u001b[0m Trial 45 finished with value: 0.6202301635958857 and parameters: {'criterion': 'entropy', 'splitter': 'best', 'max_depth': 60, 'min_samples_split': 65, 'min_samples_leaf': 20, 'max_leaf_nodes': 710, 'class_weight': None}. Best is trial 41 with value: 0.6608129329813139.\u001b[0m\n",
            "\u001b[32m[I 2022-11-13 17:06:05,122]\u001b[0m Trial 46 finished with value: 0.6327920691402823 and parameters: {'criterion': 'entropy', 'splitter': 'random', 'max_depth': 70, 'min_samples_split': 80, 'min_samples_leaf': 30, 'max_leaf_nodes': 710, 'class_weight': 'balanced'}. Best is trial 41 with value: 0.6608129329813139.\u001b[0m\n",
            "\u001b[32m[I 2022-11-13 17:06:05,367]\u001b[0m Trial 47 finished with value: 0.6430192942941794 and parameters: {'criterion': 'entropy', 'splitter': 'best', 'max_depth': 60, 'min_samples_split': 5, 'min_samples_leaf': 10, 'max_leaf_nodes': 510, 'class_weight': 'balanced'}. Best is trial 41 with value: 0.6608129329813139.\u001b[0m\n",
            "\u001b[32m[I 2022-11-13 17:06:05,580]\u001b[0m Trial 48 finished with value: 0.6464024748237993 and parameters: {'criterion': 'entropy', 'splitter': 'best', 'max_depth': 55, 'min_samples_split': 90, 'min_samples_leaf': 65, 'max_leaf_nodes': 610, 'class_weight': 'balanced'}. Best is trial 41 with value: 0.6608129329813139.\u001b[0m\n",
            "\u001b[32m[I 2022-11-13 17:06:05,784]\u001b[0m Trial 49 finished with value: 0.5566693787379855 and parameters: {'criterion': 'entropy', 'splitter': 'best', 'max_depth': 40, 'min_samples_split': 45, 'min_samples_leaf': 85, 'max_leaf_nodes': 710, 'class_weight': None}. Best is trial 41 with value: 0.6608129329813139.\u001b[0m\n",
            "\u001b[32m[I 2022-11-13 17:06:06,044]\u001b[0m Trial 50 finished with value: 0.6443418258420045 and parameters: {'criterion': 'entropy', 'splitter': 'best', 'max_depth': 50, 'min_samples_split': 100, 'min_samples_leaf': 50, 'max_leaf_nodes': 510, 'class_weight': 'balanced'}. Best is trial 41 with value: 0.6608129329813139.\u001b[0m\n",
            "\u001b[32m[I 2022-11-13 17:06:06,274]\u001b[0m Trial 51 finished with value: 0.6532951633311378 and parameters: {'criterion': 'entropy', 'splitter': 'best', 'max_depth': 30, 'min_samples_split': 70, 'min_samples_leaf': 10, 'max_leaf_nodes': 810, 'class_weight': 'balanced'}. Best is trial 41 with value: 0.6608129329813139.\u001b[0m\n",
            "\u001b[32m[I 2022-11-13 17:06:06,519]\u001b[0m Trial 52 finished with value: 0.6608129329813139 and parameters: {'criterion': 'entropy', 'splitter': 'best', 'max_depth': 40, 'min_samples_split': 70, 'min_samples_leaf': 5, 'max_leaf_nodes': 810, 'class_weight': 'balanced'}. Best is trial 41 with value: 0.6608129329813139.\u001b[0m\n",
            "\u001b[32m[I 2022-11-13 17:06:06,757]\u001b[0m Trial 53 finished with value: 0.6644413489111798 and parameters: {'criterion': 'entropy', 'splitter': 'best', 'max_depth': 40, 'min_samples_split': 65, 'min_samples_leaf': 5, 'max_leaf_nodes': 810, 'class_weight': 'balanced'}. Best is trial 53 with value: 0.6644413489111798.\u001b[0m\n",
            "\u001b[32m[I 2022-11-13 17:06:07,080]\u001b[0m Trial 54 finished with value: 0.6644413489111798 and parameters: {'criterion': 'entropy', 'splitter': 'best', 'max_depth': 40, 'min_samples_split': 65, 'min_samples_leaf': 5, 'max_leaf_nodes': 810, 'class_weight': 'balanced'}. Best is trial 53 with value: 0.6644413489111798.\u001b[0m\n",
            "\u001b[32m[I 2022-11-13 17:06:07,323]\u001b[0m Trial 55 finished with value: 0.6608851143632243 and parameters: {'criterion': 'entropy', 'splitter': 'best', 'max_depth': 40, 'min_samples_split': 55, 'min_samples_leaf': 5, 'max_leaf_nodes': 910, 'class_weight': 'balanced'}. Best is trial 53 with value: 0.6644413489111798.\u001b[0m\n",
            "\u001b[32m[I 2022-11-13 17:06:07,632]\u001b[0m Trial 56 finished with value: 0.6608851143632243 and parameters: {'criterion': 'entropy', 'splitter': 'best', 'max_depth': 40, 'min_samples_split': 55, 'min_samples_leaf': 5, 'max_leaf_nodes': 1010, 'class_weight': 'balanced'}. Best is trial 53 with value: 0.6644413489111798.\u001b[0m\n",
            "\u001b[32m[I 2022-11-13 17:06:07,848]\u001b[0m Trial 57 finished with value: 0.6404318559374236 and parameters: {'criterion': 'entropy', 'splitter': 'random', 'max_depth': 40, 'min_samples_split': 55, 'min_samples_leaf': 15, 'max_leaf_nodes': 1010, 'class_weight': 'balanced'}. Best is trial 53 with value: 0.6644413489111798.\u001b[0m\n",
            "\u001b[32m[I 2022-11-13 17:06:08,078]\u001b[0m Trial 58 finished with value: 0.6329534927503677 and parameters: {'criterion': 'entropy', 'splitter': 'best', 'max_depth': 45, 'min_samples_split': 40, 'min_samples_leaf': 25, 'max_leaf_nodes': 910, 'class_weight': 'balanced'}. Best is trial 53 with value: 0.6644413489111798.\u001b[0m\n",
            "\u001b[32m[I 2022-11-13 17:06:08,448]\u001b[0m Trial 59 finished with value: 0.6585215505580566 and parameters: {'criterion': 'entropy', 'splitter': 'best', 'max_depth': 40, 'min_samples_split': 50, 'min_samples_leaf': 5, 'max_leaf_nodes': 1010, 'class_weight': 'balanced'}. Best is trial 53 with value: 0.6644413489111798.\u001b[0m\n",
            "\u001b[32m[I 2022-11-13 17:06:08,777]\u001b[0m Trial 60 finished with value: 0.6282525224659745 and parameters: {'criterion': 'entropy', 'splitter': 'best', 'max_depth': 35, 'min_samples_split': 60, 'min_samples_leaf': 20, 'max_leaf_nodes': 910, 'class_weight': 'balanced'}. Best is trial 53 with value: 0.6644413489111798.\u001b[0m\n",
            "\u001b[32m[I 2022-11-13 17:06:09,177]\u001b[0m Trial 61 finished with value: 0.6485966293865533 and parameters: {'criterion': 'entropy', 'splitter': 'best', 'max_depth': 40, 'min_samples_split': 45, 'min_samples_leaf': 5, 'max_leaf_nodes': 1010, 'class_weight': 'balanced'}. Best is trial 53 with value: 0.6644413489111798.\u001b[0m\n",
            "\u001b[32m[I 2022-11-13 17:06:09,512]\u001b[0m Trial 62 finished with value: 0.6585215505580566 and parameters: {'criterion': 'entropy', 'splitter': 'best', 'max_depth': 50, 'min_samples_split': 50, 'min_samples_leaf': 5, 'max_leaf_nodes': 1010, 'class_weight': 'balanced'}. Best is trial 53 with value: 0.6644413489111798.\u001b[0m\n",
            "\u001b[32m[I 2022-11-13 17:06:09,784]\u001b[0m Trial 63 finished with value: 0.6278795091090543 and parameters: {'criterion': 'entropy', 'splitter': 'best', 'max_depth': 50, 'min_samples_split': 55, 'min_samples_leaf': 15, 'max_leaf_nodes': 1010, 'class_weight': 'balanced'}. Best is trial 53 with value: 0.6644413489111798.\u001b[0m\n",
            "\u001b[32m[I 2022-11-13 17:06:10,065]\u001b[0m Trial 64 finished with value: 0.6608851143632243 and parameters: {'criterion': 'entropy', 'splitter': 'best', 'max_depth': 35, 'min_samples_split': 55, 'min_samples_leaf': 5, 'max_leaf_nodes': 1010, 'class_weight': 'balanced'}. Best is trial 53 with value: 0.6644413489111798.\u001b[0m\n",
            "\u001b[32m[I 2022-11-13 17:06:10,339]\u001b[0m Trial 65 finished with value: 0.6284367886980023 and parameters: {'criterion': 'entropy', 'splitter': 'best', 'max_depth': 35, 'min_samples_split': 60, 'min_samples_leaf': 15, 'max_leaf_nodes': 910, 'class_weight': 'balanced'}. Best is trial 53 with value: 0.6644413489111798.\u001b[0m\n",
            "\u001b[32m[I 2022-11-13 17:06:10,610]\u001b[0m Trial 66 finished with value: 0.6400686550103672 and parameters: {'criterion': 'entropy', 'splitter': 'best', 'max_depth': 45, 'min_samples_split': 35, 'min_samples_leaf': 5, 'max_leaf_nodes': 910, 'class_weight': 'balanced'}. Best is trial 53 with value: 0.6644413489111798.\u001b[0m\n",
            "\u001b[32m[I 2022-11-13 17:06:10,907]\u001b[0m Trial 67 finished with value: 0.6460066049972889 and parameters: {'criterion': 'entropy', 'splitter': 'best', 'max_depth': 35, 'min_samples_split': 55, 'min_samples_leaf': 10, 'max_leaf_nodes': 1010, 'class_weight': 'balanced'}. Best is trial 53 with value: 0.6644413489111798.\u001b[0m\n",
            "\u001b[32m[I 2022-11-13 17:06:11,177]\u001b[0m Trial 68 finished with value: 0.6303799658993354 and parameters: {'criterion': 'entropy', 'splitter': 'best', 'max_depth': 40, 'min_samples_split': 60, 'min_samples_leaf': 15, 'max_leaf_nodes': 910, 'class_weight': None}. Best is trial 53 with value: 0.6644413489111798.\u001b[0m\n",
            "\u001b[32m[I 2022-11-13 17:06:11,447]\u001b[0m Trial 69 finished with value: 0.6644413489111798 and parameters: {'criterion': 'entropy', 'splitter': 'best', 'max_depth': 45, 'min_samples_split': 65, 'min_samples_leaf': 5, 'max_leaf_nodes': 910, 'class_weight': 'balanced'}. Best is trial 53 with value: 0.6644413489111798.\u001b[0m\n",
            "\u001b[32m[I 2022-11-13 17:06:11,767]\u001b[0m Trial 70 finished with value: 0.624698615512406 and parameters: {'criterion': 'entropy', 'splitter': 'best', 'max_depth': 45, 'min_samples_split': 40, 'min_samples_leaf': 20, 'max_leaf_nodes': 1010, 'class_weight': 'balanced'}. Best is trial 53 with value: 0.6644413489111798.\u001b[0m\n",
            "\u001b[32m[I 2022-11-13 17:06:12,066]\u001b[0m Trial 71 finished with value: 0.6644413489111798 and parameters: {'criterion': 'entropy', 'splitter': 'best', 'max_depth': 35, 'min_samples_split': 65, 'min_samples_leaf': 5, 'max_leaf_nodes': 810, 'class_weight': 'balanced'}. Best is trial 53 with value: 0.6644413489111798.\u001b[0m\n",
            "\u001b[32m[I 2022-11-13 17:06:12,380]\u001b[0m Trial 72 finished with value: 0.6644413489111798 and parameters: {'criterion': 'entropy', 'splitter': 'best', 'max_depth': 35, 'min_samples_split': 65, 'min_samples_leaf': 5, 'max_leaf_nodes': 910, 'class_weight': 'balanced'}. Best is trial 53 with value: 0.6644413489111798.\u001b[0m\n",
            "\u001b[32m[I 2022-11-13 17:06:12,746]\u001b[0m Trial 73 finished with value: 0.651969387565632 and parameters: {'criterion': 'entropy', 'splitter': 'best', 'max_depth': 35, 'min_samples_split': 65, 'min_samples_leaf': 10, 'max_leaf_nodes': 910, 'class_weight': 'balanced'}. Best is trial 53 with value: 0.6644413489111798.\u001b[0m\n",
            "\u001b[32m[I 2022-11-13 17:06:13,091]\u001b[0m Trial 74 finished with value: 0.6371863033110802 and parameters: {'criterion': 'entropy', 'splitter': 'best', 'max_depth': 35, 'min_samples_split': 65, 'min_samples_leaf': 15, 'max_leaf_nodes': 910, 'class_weight': 'balanced'}. Best is trial 53 with value: 0.6644413489111798.\u001b[0m\n",
            "\u001b[32m[I 2022-11-13 17:06:13,399]\u001b[0m Trial 75 finished with value: 0.6608851143632243 and parameters: {'criterion': 'entropy', 'splitter': 'best', 'max_depth': 45, 'min_samples_split': 55, 'min_samples_leaf': 5, 'max_leaf_nodes': 1010, 'class_weight': 'balanced'}. Best is trial 53 with value: 0.6644413489111798.\u001b[0m\n",
            "\u001b[32m[I 2022-11-13 17:06:13,667]\u001b[0m Trial 76 finished with value: 0.6449352909896904 and parameters: {'criterion': 'entropy', 'splitter': 'best', 'max_depth': 45, 'min_samples_split': 50, 'min_samples_leaf': 10, 'max_leaf_nodes': 910, 'class_weight': 'balanced'}. Best is trial 53 with value: 0.6644413489111798.\u001b[0m\n",
            "\u001b[32m[I 2022-11-13 17:06:13,994]\u001b[0m Trial 77 finished with value: 0.6403214534573044 and parameters: {'criterion': 'entropy', 'splitter': 'random', 'max_depth': 30, 'min_samples_split': 60, 'min_samples_leaf': 5, 'max_leaf_nodes': 1010, 'class_weight': 'balanced'}. Best is trial 53 with value: 0.6644413489111798.\u001b[0m\n",
            "\u001b[32m[I 2022-11-13 17:06:14,248]\u001b[0m Trial 78 finished with value: 0.651969387565632 and parameters: {'criterion': 'entropy', 'splitter': 'best', 'max_depth': 95, 'min_samples_split': 65, 'min_samples_leaf': 10, 'max_leaf_nodes': 810, 'class_weight': 'balanced'}. Best is trial 53 with value: 0.6644413489111798.\u001b[0m\n",
            "\u001b[32m[I 2022-11-13 17:06:14,498]\u001b[0m Trial 79 finished with value: 0.6460066049972889 and parameters: {'criterion': 'entropy', 'splitter': 'best', 'max_depth': 55, 'min_samples_split': 55, 'min_samples_leaf': 10, 'max_leaf_nodes': 210, 'class_weight': 'balanced'}. Best is trial 53 with value: 0.6644413489111798.\u001b[0m\n",
            "\u001b[32m[I 2022-11-13 17:06:14,751]\u001b[0m Trial 80 finished with value: 0.6284367886980023 and parameters: {'criterion': 'entropy', 'splitter': 'best', 'max_depth': 50, 'min_samples_split': 60, 'min_samples_leaf': 15, 'max_leaf_nodes': 910, 'class_weight': 'balanced'}. Best is trial 53 with value: 0.6644413489111798.\u001b[0m\n",
            "\u001b[32m[I 2022-11-13 17:06:15,009]\u001b[0m Trial 81 finished with value: 0.6608851143632243 and parameters: {'criterion': 'entropy', 'splitter': 'best', 'max_depth': 45, 'min_samples_split': 55, 'min_samples_leaf': 5, 'max_leaf_nodes': 1010, 'class_weight': 'balanced'}. Best is trial 53 with value: 0.6644413489111798.\u001b[0m\n",
            "\u001b[32m[I 2022-11-13 17:06:15,259]\u001b[0m Trial 82 finished with value: 0.659505782420432 and parameters: {'criterion': 'entropy', 'splitter': 'best', 'max_depth': 35, 'min_samples_split': 75, 'min_samples_leaf': 5, 'max_leaf_nodes': 1010, 'class_weight': 'balanced'}. Best is trial 53 with value: 0.6644413489111798.\u001b[0m\n",
            "\u001b[32m[I 2022-11-13 17:06:15,509]\u001b[0m Trial 83 finished with value: 0.6563746252128773 and parameters: {'criterion': 'entropy', 'splitter': 'best', 'max_depth': 40, 'min_samples_split': 60, 'min_samples_leaf': 5, 'max_leaf_nodes': 1010, 'class_weight': 'balanced'}. Best is trial 53 with value: 0.6644413489111798.\u001b[0m\n",
            "\u001b[32m[I 2022-11-13 17:06:15,756]\u001b[0m Trial 84 finished with value: 0.651969387565632 and parameters: {'criterion': 'entropy', 'splitter': 'best', 'max_depth': 45, 'min_samples_split': 65, 'min_samples_leaf': 10, 'max_leaf_nodes': 1010, 'class_weight': 'balanced'}. Best is trial 53 with value: 0.6644413489111798.\u001b[0m\n",
            "\u001b[32m[I 2022-11-13 17:06:16,015]\u001b[0m Trial 85 finished with value: 0.6608851143632243 and parameters: {'criterion': 'entropy', 'splitter': 'best', 'max_depth': 30, 'min_samples_split': 55, 'min_samples_leaf': 5, 'max_leaf_nodes': 1010, 'class_weight': 'balanced'}. Best is trial 53 with value: 0.6644413489111798.\u001b[0m\n",
            "\u001b[32m[I 2022-11-13 17:06:16,260]\u001b[0m Trial 86 finished with value: 0.6437013934249782 and parameters: {'criterion': 'entropy', 'splitter': 'best', 'max_depth': 30, 'min_samples_split': 50, 'min_samples_leaf': 15, 'max_leaf_nodes': 1010, 'class_weight': None}. Best is trial 53 with value: 0.6644413489111798.\u001b[0m\n",
            "\u001b[32m[I 2022-11-13 17:06:16,494]\u001b[0m Trial 87 finished with value: 0.6403789281832111 and parameters: {'criterion': 'entropy', 'splitter': 'best', 'max_depth': 45, 'min_samples_split': 65, 'min_samples_leaf': 60, 'max_leaf_nodes': 810, 'class_weight': 'balanced'}. Best is trial 53 with value: 0.6644413489111798.\u001b[0m\n",
            "\u001b[32m[I 2022-11-13 17:06:16,746]\u001b[0m Trial 88 finished with value: 0.6446648077352936 and parameters: {'criterion': 'entropy', 'splitter': 'best', 'max_depth': 35, 'min_samples_split': 60, 'min_samples_leaf': 10, 'max_leaf_nodes': 910, 'class_weight': 'balanced'}. Best is trial 53 with value: 0.6644413489111798.\u001b[0m\n",
            "\u001b[32m[I 2022-11-13 17:06:16,970]\u001b[0m Trial 89 finished with value: 0.6504647817601195 and parameters: {'criterion': 'entropy', 'splitter': 'random', 'max_depth': 30, 'min_samples_split': 75, 'min_samples_leaf': 20, 'max_leaf_nodes': 810, 'class_weight': 'balanced'}. Best is trial 53 with value: 0.6644413489111798.\u001b[0m\n",
            "\u001b[32m[I 2022-11-13 17:06:17,228]\u001b[0m Trial 90 finished with value: 0.6485966293865533 and parameters: {'criterion': 'entropy', 'splitter': 'best', 'max_depth': 55, 'min_samples_split': 45, 'min_samples_leaf': 5, 'max_leaf_nodes': 910, 'class_weight': 'balanced'}. Best is trial 53 with value: 0.6644413489111798.\u001b[0m\n",
            "\u001b[32m[I 2022-11-13 17:06:17,479]\u001b[0m Trial 91 finished with value: 0.6608851143632243 and parameters: {'criterion': 'entropy', 'splitter': 'best', 'max_depth': 50, 'min_samples_split': 55, 'min_samples_leaf': 5, 'max_leaf_nodes': 910, 'class_weight': 'balanced'}. Best is trial 53 with value: 0.6644413489111798.\u001b[0m\n",
            "\u001b[32m[I 2022-11-13 17:06:17,733]\u001b[0m Trial 92 finished with value: 0.6585215505580566 and parameters: {'criterion': 'entropy', 'splitter': 'best', 'max_depth': 40, 'min_samples_split': 50, 'min_samples_leaf': 5, 'max_leaf_nodes': 1010, 'class_weight': 'balanced'}. Best is trial 53 with value: 0.6644413489111798.\u001b[0m\n",
            "\u001b[32m[I 2022-11-13 17:06:17,984]\u001b[0m Trial 93 finished with value: 0.6460066049972889 and parameters: {'criterion': 'entropy', 'splitter': 'best', 'max_depth': 50, 'min_samples_split': 55, 'min_samples_leaf': 10, 'max_leaf_nodes': 910, 'class_weight': 'balanced'}. Best is trial 53 with value: 0.6644413489111798.\u001b[0m\n",
            "\u001b[32m[I 2022-11-13 17:06:18,257]\u001b[0m Trial 94 finished with value: 0.6608851143632243 and parameters: {'criterion': 'entropy', 'splitter': 'best', 'max_depth': 45, 'min_samples_split': 55, 'min_samples_leaf': 5, 'max_leaf_nodes': 1010, 'class_weight': 'balanced'}. Best is trial 53 with value: 0.6644413489111798.\u001b[0m\n",
            "\u001b[32m[I 2022-11-13 17:06:18,507]\u001b[0m Trial 95 finished with value: 0.6446648077352936 and parameters: {'criterion': 'entropy', 'splitter': 'best', 'max_depth': 35, 'min_samples_split': 60, 'min_samples_leaf': 10, 'max_leaf_nodes': 810, 'class_weight': 'balanced'}. Best is trial 53 with value: 0.6644413489111798.\u001b[0m\n",
            "\u001b[32m[I 2022-11-13 17:06:18,823]\u001b[0m Trial 96 finished with value: 0.6644413489111798 and parameters: {'criterion': 'entropy', 'splitter': 'best', 'max_depth': 45, 'min_samples_split': 65, 'min_samples_leaf': 5, 'max_leaf_nodes': 1010, 'class_weight': 'balanced'}. Best is trial 53 with value: 0.6644413489111798.\u001b[0m\n",
            "\u001b[32m[I 2022-11-13 17:06:19,112]\u001b[0m Trial 97 finished with value: 0.651969387565632 and parameters: {'criterion': 'entropy', 'splitter': 'best', 'max_depth': 50, 'min_samples_split': 65, 'min_samples_leaf': 10, 'max_leaf_nodes': 910, 'class_weight': 'balanced'}. Best is trial 53 with value: 0.6644413489111798.\u001b[0m\n",
            "\u001b[32m[I 2022-11-13 17:06:19,454]\u001b[0m Trial 98 finished with value: 0.6480208522215012 and parameters: {'criterion': 'entropy', 'splitter': 'best', 'max_depth': 40, 'min_samples_split': 70, 'min_samples_leaf': 5, 'max_leaf_nodes': 810, 'class_weight': None}. Best is trial 53 with value: 0.6644413489111798.\u001b[0m\n",
            "\u001b[32m[I 2022-11-13 17:06:19,703]\u001b[0m Trial 99 finished with value: 0.6371863033110802 and parameters: {'criterion': 'entropy', 'splitter': 'best', 'max_depth': 55, 'min_samples_split': 65, 'min_samples_leaf': 15, 'max_leaf_nodes': 910, 'class_weight': 'balanced'}. Best is trial 53 with value: 0.6644413489111798.\u001b[0m\n"
          ]
        }
      ],
      "source": [
        "# More options for optimizing the hyperparms can be found:\n",
        "# https://optuna.readthedocs.io/en/stable/reference/generated/optuna.study.Study.html#optuna.study.Study.optimize\n",
        "\n",
        "study.optimize(lambda trial: objective_dt(trial, X, y), n_trials=100,  gc_after_trial=True)"
      ]
    },
    {
      "cell_type": "markdown",
      "metadata": {
        "id": "Ek04AFmB6x56"
      },
      "source": [
        "# (Optional) Inspect the Results of the Study"
      ]
    },
    {
      "cell_type": "code",
      "execution_count": 9,
      "metadata": {
        "colab": {
          "base_uri": "https://localhost:8080/"
        },
        "id": "3zHdSy823gkt",
        "outputId": "9dbd2301-c991-4e1d-ec25-d537b2ac1fd0"
      },
      "outputs": [
        {
          "data": {
            "text/plain": [
              "{'criterion': 'entropy',\n",
              " 'splitter': 'best',\n",
              " 'max_depth': 40,\n",
              " 'min_samples_split': 65,\n",
              " 'min_samples_leaf': 5,\n",
              " 'max_leaf_nodes': 810,\n",
              " 'class_weight': 'balanced'}"
            ]
          },
          "execution_count": 9,
          "metadata": {},
          "output_type": "execute_result"
        }
      ],
      "source": [
        "# What were the best params?\n",
        "study.best_params"
      ]
    },
    {
      "cell_type": "code",
      "execution_count": 10,
      "metadata": {
        "colab": {
          "base_uri": "https://localhost:8080/"
        },
        "id": "bUCsHVLI6NUo",
        "outputId": "5fa56417-f4b3-4f88-912b-183c29c82020"
      },
      "outputs": [
        {
          "data": {
            "text/plain": [
              "0.6644413489111798"
            ]
          },
          "execution_count": 10,
          "metadata": {},
          "output_type": "execute_result"
        }
      ],
      "source": [
        "# What was the best value?\n",
        "study.best_value"
      ]
    },
    {
      "cell_type": "code",
      "execution_count": 11,
      "metadata": {
        "colab": {
          "base_uri": "https://localhost:8080/"
        },
        "id": "WCe1PODk6Tru",
        "outputId": "65b33e61-78f4-46b4-f3ee-3c1002041359"
      },
      "outputs": [
        {
          "data": {
            "text/plain": [
              "FrozenTrial(number=53, values=[0.6644413489111798], datetime_start=datetime.datetime(2022, 11, 13, 17, 6, 6, 607980), datetime_complete=datetime.datetime(2022, 11, 13, 17, 6, 6, 757719), params={'criterion': 'entropy', 'splitter': 'best', 'max_depth': 40, 'min_samples_split': 65, 'min_samples_leaf': 5, 'max_leaf_nodes': 810, 'class_weight': 'balanced'}, distributions={'criterion': CategoricalDistribution(choices=('gini', 'entropy')), 'splitter': CategoricalDistribution(choices=('best', 'random')), 'max_depth': IntDistribution(high=100, log=False, low=5, step=5), 'min_samples_split': IntDistribution(high=100, log=False, low=5, step=5), 'min_samples_leaf': IntDistribution(high=100, log=False, low=5, step=5), 'max_leaf_nodes': IntDistribution(high=1010, log=False, low=10, step=100), 'class_weight': CategoricalDistribution(choices=('balanced', None))}, user_attrs={}, system_attrs={}, intermediate_values={}, trial_id=53, state=TrialState.COMPLETE, value=None)"
            ]
          },
          "execution_count": 11,
          "metadata": {},
          "output_type": "execute_result"
        }
      ],
      "source": [
        "# All the details of the best trial\n",
        "study.best_trial"
      ]
    },
    {
      "cell_type": "code",
      "execution_count": 12,
      "metadata": {
        "colab": {
          "base_uri": "https://localhost:8080/",
          "height": 542
        },
        "id": "Sgi4l7Ws63bF",
        "outputId": "0bb68b6c-97e6-4fe2-dd40-8f4490187478"
      },
      "outputs": [
        {
          "data": {
            "application/vnd.plotly.v1+json": {
              "config": {
                "plotlyServerURL": "https://plot.ly"
              },
              "data": [
                {
                  "mode": "markers",
                  "name": "Objective Value",
                  "type": "scatter",
                  "x": [
                    0,
                    1,
                    2,
                    3,
                    4,
                    5,
                    6,
                    7,
                    8,
                    9,
                    10,
                    11,
                    12,
                    13,
                    14,
                    15,
                    16,
                    17,
                    18,
                    19,
                    20,
                    21,
                    22,
                    23,
                    24,
                    25,
                    26,
                    27,
                    28,
                    29,
                    30,
                    31,
                    32,
                    33,
                    34,
                    35,
                    36,
                    37,
                    38,
                    39,
                    40,
                    41,
                    42,
                    43,
                    44,
                    45,
                    46,
                    47,
                    48,
                    49,
                    50,
                    51,
                    52,
                    53,
                    54,
                    55,
                    56,
                    57,
                    58,
                    59,
                    60,
                    61,
                    62,
                    63,
                    64,
                    65,
                    66,
                    67,
                    68,
                    69,
                    70,
                    71,
                    72,
                    73,
                    74,
                    75,
                    76,
                    77,
                    78,
                    79,
                    80,
                    81,
                    82,
                    83,
                    84,
                    85,
                    86,
                    87,
                    88,
                    89,
                    90,
                    91,
                    92,
                    93,
                    94,
                    95,
                    96,
                    97,
                    98,
                    99
                  ],
                  "y": [
                    0.6337857831520763,
                    0.6494559803481313,
                    0.6401232747569949,
                    0.6200287138909444,
                    0.5980719571880841,
                    0.6248805589694888,
                    0.6239157254860794,
                    0.6175122297095158,
                    0.6387109328991565,
                    0.6311157826051206,
                    0.6416132382994515,
                    0.6449509273154448,
                    0.6485506998454602,
                    0.6374959620423287,
                    0.6434618380000998,
                    0.6353940875704268,
                    0.6373207804443313,
                    0.6390129029511095,
                    0.6353940875704268,
                    0.6502558084537119,
                    0.6332923527536095,
                    0.6524667181179707,
                    0.6513856951559968,
                    0.6435773431508942,
                    0.6394274176661184,
                    0.6353124432456747,
                    0.6559461631511894,
                    0.6340641524729376,
                    0.6434618380000998,
                    0.6284632832645787,
                    0.6457990721901357,
                    0.6548069727887468,
                    0.6494062383635992,
                    0.6457442095712658,
                    0.6455974093916259,
                    0.6446852294972751,
                    0.5768632941665126,
                    0.6532951633311378,
                    0.6296578423247352,
                    0.6338806093677296,
                    0.6444532672365215,
                    0.6608129329813139,
                    0.6532951633311378,
                    0.6237341599706951,
                    0.6532951633311378,
                    0.6202301635958857,
                    0.6327920691402823,
                    0.6430192942941794,
                    0.6464024748237993,
                    0.5566693787379855,
                    0.6443418258420045,
                    0.6532951633311378,
                    0.6608129329813139,
                    0.6644413489111798,
                    0.6644413489111798,
                    0.6608851143632243,
                    0.6608851143632243,
                    0.6404318559374236,
                    0.6329534927503677,
                    0.6585215505580566,
                    0.6282525224659745,
                    0.6485966293865533,
                    0.6585215505580566,
                    0.6278795091090543,
                    0.6608851143632243,
                    0.6284367886980023,
                    0.6400686550103672,
                    0.6460066049972889,
                    0.6303799658993354,
                    0.6644413489111798,
                    0.624698615512406,
                    0.6644413489111798,
                    0.6644413489111798,
                    0.651969387565632,
                    0.6371863033110802,
                    0.6608851143632243,
                    0.6449352909896904,
                    0.6403214534573044,
                    0.651969387565632,
                    0.6460066049972889,
                    0.6284367886980023,
                    0.6608851143632243,
                    0.659505782420432,
                    0.6563746252128773,
                    0.651969387565632,
                    0.6608851143632243,
                    0.6437013934249782,
                    0.6403789281832111,
                    0.6446648077352936,
                    0.6504647817601195,
                    0.6485966293865533,
                    0.6608851143632243,
                    0.6585215505580566,
                    0.6460066049972889,
                    0.6608851143632243,
                    0.6446648077352936,
                    0.6644413489111798,
                    0.651969387565632,
                    0.6480208522215012,
                    0.6371863033110802
                  ]
                },
                {
                  "name": "Best Value",
                  "type": "scatter",
                  "x": [
                    0,
                    1,
                    2,
                    3,
                    4,
                    5,
                    6,
                    7,
                    8,
                    9,
                    10,
                    11,
                    12,
                    13,
                    14,
                    15,
                    16,
                    17,
                    18,
                    19,
                    20,
                    21,
                    22,
                    23,
                    24,
                    25,
                    26,
                    27,
                    28,
                    29,
                    30,
                    31,
                    32,
                    33,
                    34,
                    35,
                    36,
                    37,
                    38,
                    39,
                    40,
                    41,
                    42,
                    43,
                    44,
                    45,
                    46,
                    47,
                    48,
                    49,
                    50,
                    51,
                    52,
                    53,
                    54,
                    55,
                    56,
                    57,
                    58,
                    59,
                    60,
                    61,
                    62,
                    63,
                    64,
                    65,
                    66,
                    67,
                    68,
                    69,
                    70,
                    71,
                    72,
                    73,
                    74,
                    75,
                    76,
                    77,
                    78,
                    79,
                    80,
                    81,
                    82,
                    83,
                    84,
                    85,
                    86,
                    87,
                    88,
                    89,
                    90,
                    91,
                    92,
                    93,
                    94,
                    95,
                    96,
                    97,
                    98,
                    99
                  ],
                  "y": [
                    0.6337857831520763,
                    0.6494559803481313,
                    0.6494559803481313,
                    0.6494559803481313,
                    0.6494559803481313,
                    0.6494559803481313,
                    0.6494559803481313,
                    0.6494559803481313,
                    0.6494559803481313,
                    0.6494559803481313,
                    0.6494559803481313,
                    0.6494559803481313,
                    0.6494559803481313,
                    0.6494559803481313,
                    0.6494559803481313,
                    0.6494559803481313,
                    0.6494559803481313,
                    0.6494559803481313,
                    0.6494559803481313,
                    0.6502558084537119,
                    0.6502558084537119,
                    0.6524667181179707,
                    0.6524667181179707,
                    0.6524667181179707,
                    0.6524667181179707,
                    0.6524667181179707,
                    0.6559461631511894,
                    0.6559461631511894,
                    0.6559461631511894,
                    0.6559461631511894,
                    0.6559461631511894,
                    0.6559461631511894,
                    0.6559461631511894,
                    0.6559461631511894,
                    0.6559461631511894,
                    0.6559461631511894,
                    0.6559461631511894,
                    0.6559461631511894,
                    0.6559461631511894,
                    0.6559461631511894,
                    0.6559461631511894,
                    0.6608129329813139,
                    0.6608129329813139,
                    0.6608129329813139,
                    0.6608129329813139,
                    0.6608129329813139,
                    0.6608129329813139,
                    0.6608129329813139,
                    0.6608129329813139,
                    0.6608129329813139,
                    0.6608129329813139,
                    0.6608129329813139,
                    0.6608129329813139,
                    0.6644413489111798,
                    0.6644413489111798,
                    0.6644413489111798,
                    0.6644413489111798,
                    0.6644413489111798,
                    0.6644413489111798,
                    0.6644413489111798,
                    0.6644413489111798,
                    0.6644413489111798,
                    0.6644413489111798,
                    0.6644413489111798,
                    0.6644413489111798,
                    0.6644413489111798,
                    0.6644413489111798,
                    0.6644413489111798,
                    0.6644413489111798,
                    0.6644413489111798,
                    0.6644413489111798,
                    0.6644413489111798,
                    0.6644413489111798,
                    0.6644413489111798,
                    0.6644413489111798,
                    0.6644413489111798,
                    0.6644413489111798,
                    0.6644413489111798,
                    0.6644413489111798,
                    0.6644413489111798,
                    0.6644413489111798,
                    0.6644413489111798,
                    0.6644413489111798,
                    0.6644413489111798,
                    0.6644413489111798,
                    0.6644413489111798,
                    0.6644413489111798,
                    0.6644413489111798,
                    0.6644413489111798,
                    0.6644413489111798,
                    0.6644413489111798,
                    0.6644413489111798,
                    0.6644413489111798,
                    0.6644413489111798,
                    0.6644413489111798,
                    0.6644413489111798,
                    0.6644413489111798,
                    0.6644413489111798,
                    0.6644413489111798,
                    0.6644413489111798
                  ]
                }
              ],
              "layout": {
                "template": {
                  "data": {
                    "bar": [
                      {
                        "error_x": {
                          "color": "#2a3f5f"
                        },
                        "error_y": {
                          "color": "#2a3f5f"
                        },
                        "marker": {
                          "line": {
                            "color": "#E5ECF6",
                            "width": 0.5
                          },
                          "pattern": {
                            "fillmode": "overlay",
                            "size": 10,
                            "solidity": 0.2
                          }
                        },
                        "type": "bar"
                      }
                    ],
                    "barpolar": [
                      {
                        "marker": {
                          "line": {
                            "color": "#E5ECF6",
                            "width": 0.5
                          },
                          "pattern": {
                            "fillmode": "overlay",
                            "size": 10,
                            "solidity": 0.2
                          }
                        },
                        "type": "barpolar"
                      }
                    ],
                    "carpet": [
                      {
                        "aaxis": {
                          "endlinecolor": "#2a3f5f",
                          "gridcolor": "white",
                          "linecolor": "white",
                          "minorgridcolor": "white",
                          "startlinecolor": "#2a3f5f"
                        },
                        "baxis": {
                          "endlinecolor": "#2a3f5f",
                          "gridcolor": "white",
                          "linecolor": "white",
                          "minorgridcolor": "white",
                          "startlinecolor": "#2a3f5f"
                        },
                        "type": "carpet"
                      }
                    ],
                    "choropleth": [
                      {
                        "colorbar": {
                          "outlinewidth": 0,
                          "ticks": ""
                        },
                        "type": "choropleth"
                      }
                    ],
                    "contour": [
                      {
                        "colorbar": {
                          "outlinewidth": 0,
                          "ticks": ""
                        },
                        "colorscale": [
                          [
                            0,
                            "#0d0887"
                          ],
                          [
                            0.1111111111111111,
                            "#46039f"
                          ],
                          [
                            0.2222222222222222,
                            "#7201a8"
                          ],
                          [
                            0.3333333333333333,
                            "#9c179e"
                          ],
                          [
                            0.4444444444444444,
                            "#bd3786"
                          ],
                          [
                            0.5555555555555556,
                            "#d8576b"
                          ],
                          [
                            0.6666666666666666,
                            "#ed7953"
                          ],
                          [
                            0.7777777777777778,
                            "#fb9f3a"
                          ],
                          [
                            0.8888888888888888,
                            "#fdca26"
                          ],
                          [
                            1,
                            "#f0f921"
                          ]
                        ],
                        "type": "contour"
                      }
                    ],
                    "contourcarpet": [
                      {
                        "colorbar": {
                          "outlinewidth": 0,
                          "ticks": ""
                        },
                        "type": "contourcarpet"
                      }
                    ],
                    "heatmap": [
                      {
                        "colorbar": {
                          "outlinewidth": 0,
                          "ticks": ""
                        },
                        "colorscale": [
                          [
                            0,
                            "#0d0887"
                          ],
                          [
                            0.1111111111111111,
                            "#46039f"
                          ],
                          [
                            0.2222222222222222,
                            "#7201a8"
                          ],
                          [
                            0.3333333333333333,
                            "#9c179e"
                          ],
                          [
                            0.4444444444444444,
                            "#bd3786"
                          ],
                          [
                            0.5555555555555556,
                            "#d8576b"
                          ],
                          [
                            0.6666666666666666,
                            "#ed7953"
                          ],
                          [
                            0.7777777777777778,
                            "#fb9f3a"
                          ],
                          [
                            0.8888888888888888,
                            "#fdca26"
                          ],
                          [
                            1,
                            "#f0f921"
                          ]
                        ],
                        "type": "heatmap"
                      }
                    ],
                    "heatmapgl": [
                      {
                        "colorbar": {
                          "outlinewidth": 0,
                          "ticks": ""
                        },
                        "colorscale": [
                          [
                            0,
                            "#0d0887"
                          ],
                          [
                            0.1111111111111111,
                            "#46039f"
                          ],
                          [
                            0.2222222222222222,
                            "#7201a8"
                          ],
                          [
                            0.3333333333333333,
                            "#9c179e"
                          ],
                          [
                            0.4444444444444444,
                            "#bd3786"
                          ],
                          [
                            0.5555555555555556,
                            "#d8576b"
                          ],
                          [
                            0.6666666666666666,
                            "#ed7953"
                          ],
                          [
                            0.7777777777777778,
                            "#fb9f3a"
                          ],
                          [
                            0.8888888888888888,
                            "#fdca26"
                          ],
                          [
                            1,
                            "#f0f921"
                          ]
                        ],
                        "type": "heatmapgl"
                      }
                    ],
                    "histogram": [
                      {
                        "marker": {
                          "pattern": {
                            "fillmode": "overlay",
                            "size": 10,
                            "solidity": 0.2
                          }
                        },
                        "type": "histogram"
                      }
                    ],
                    "histogram2d": [
                      {
                        "colorbar": {
                          "outlinewidth": 0,
                          "ticks": ""
                        },
                        "colorscale": [
                          [
                            0,
                            "#0d0887"
                          ],
                          [
                            0.1111111111111111,
                            "#46039f"
                          ],
                          [
                            0.2222222222222222,
                            "#7201a8"
                          ],
                          [
                            0.3333333333333333,
                            "#9c179e"
                          ],
                          [
                            0.4444444444444444,
                            "#bd3786"
                          ],
                          [
                            0.5555555555555556,
                            "#d8576b"
                          ],
                          [
                            0.6666666666666666,
                            "#ed7953"
                          ],
                          [
                            0.7777777777777778,
                            "#fb9f3a"
                          ],
                          [
                            0.8888888888888888,
                            "#fdca26"
                          ],
                          [
                            1,
                            "#f0f921"
                          ]
                        ],
                        "type": "histogram2d"
                      }
                    ],
                    "histogram2dcontour": [
                      {
                        "colorbar": {
                          "outlinewidth": 0,
                          "ticks": ""
                        },
                        "colorscale": [
                          [
                            0,
                            "#0d0887"
                          ],
                          [
                            0.1111111111111111,
                            "#46039f"
                          ],
                          [
                            0.2222222222222222,
                            "#7201a8"
                          ],
                          [
                            0.3333333333333333,
                            "#9c179e"
                          ],
                          [
                            0.4444444444444444,
                            "#bd3786"
                          ],
                          [
                            0.5555555555555556,
                            "#d8576b"
                          ],
                          [
                            0.6666666666666666,
                            "#ed7953"
                          ],
                          [
                            0.7777777777777778,
                            "#fb9f3a"
                          ],
                          [
                            0.8888888888888888,
                            "#fdca26"
                          ],
                          [
                            1,
                            "#f0f921"
                          ]
                        ],
                        "type": "histogram2dcontour"
                      }
                    ],
                    "mesh3d": [
                      {
                        "colorbar": {
                          "outlinewidth": 0,
                          "ticks": ""
                        },
                        "type": "mesh3d"
                      }
                    ],
                    "parcoords": [
                      {
                        "line": {
                          "colorbar": {
                            "outlinewidth": 0,
                            "ticks": ""
                          }
                        },
                        "type": "parcoords"
                      }
                    ],
                    "pie": [
                      {
                        "automargin": true,
                        "type": "pie"
                      }
                    ],
                    "scatter": [
                      {
                        "fillpattern": {
                          "fillmode": "overlay",
                          "size": 10,
                          "solidity": 0.2
                        },
                        "type": "scatter"
                      }
                    ],
                    "scatter3d": [
                      {
                        "line": {
                          "colorbar": {
                            "outlinewidth": 0,
                            "ticks": ""
                          }
                        },
                        "marker": {
                          "colorbar": {
                            "outlinewidth": 0,
                            "ticks": ""
                          }
                        },
                        "type": "scatter3d"
                      }
                    ],
                    "scattercarpet": [
                      {
                        "marker": {
                          "colorbar": {
                            "outlinewidth": 0,
                            "ticks": ""
                          }
                        },
                        "type": "scattercarpet"
                      }
                    ],
                    "scattergeo": [
                      {
                        "marker": {
                          "colorbar": {
                            "outlinewidth": 0,
                            "ticks": ""
                          }
                        },
                        "type": "scattergeo"
                      }
                    ],
                    "scattergl": [
                      {
                        "marker": {
                          "colorbar": {
                            "outlinewidth": 0,
                            "ticks": ""
                          }
                        },
                        "type": "scattergl"
                      }
                    ],
                    "scattermapbox": [
                      {
                        "marker": {
                          "colorbar": {
                            "outlinewidth": 0,
                            "ticks": ""
                          }
                        },
                        "type": "scattermapbox"
                      }
                    ],
                    "scatterpolar": [
                      {
                        "marker": {
                          "colorbar": {
                            "outlinewidth": 0,
                            "ticks": ""
                          }
                        },
                        "type": "scatterpolar"
                      }
                    ],
                    "scatterpolargl": [
                      {
                        "marker": {
                          "colorbar": {
                            "outlinewidth": 0,
                            "ticks": ""
                          }
                        },
                        "type": "scatterpolargl"
                      }
                    ],
                    "scatterternary": [
                      {
                        "marker": {
                          "colorbar": {
                            "outlinewidth": 0,
                            "ticks": ""
                          }
                        },
                        "type": "scatterternary"
                      }
                    ],
                    "surface": [
                      {
                        "colorbar": {
                          "outlinewidth": 0,
                          "ticks": ""
                        },
                        "colorscale": [
                          [
                            0,
                            "#0d0887"
                          ],
                          [
                            0.1111111111111111,
                            "#46039f"
                          ],
                          [
                            0.2222222222222222,
                            "#7201a8"
                          ],
                          [
                            0.3333333333333333,
                            "#9c179e"
                          ],
                          [
                            0.4444444444444444,
                            "#bd3786"
                          ],
                          [
                            0.5555555555555556,
                            "#d8576b"
                          ],
                          [
                            0.6666666666666666,
                            "#ed7953"
                          ],
                          [
                            0.7777777777777778,
                            "#fb9f3a"
                          ],
                          [
                            0.8888888888888888,
                            "#fdca26"
                          ],
                          [
                            1,
                            "#f0f921"
                          ]
                        ],
                        "type": "surface"
                      }
                    ],
                    "table": [
                      {
                        "cells": {
                          "fill": {
                            "color": "#EBF0F8"
                          },
                          "line": {
                            "color": "white"
                          }
                        },
                        "header": {
                          "fill": {
                            "color": "#C8D4E3"
                          },
                          "line": {
                            "color": "white"
                          }
                        },
                        "type": "table"
                      }
                    ]
                  },
                  "layout": {
                    "annotationdefaults": {
                      "arrowcolor": "#2a3f5f",
                      "arrowhead": 0,
                      "arrowwidth": 1
                    },
                    "autotypenumbers": "strict",
                    "coloraxis": {
                      "colorbar": {
                        "outlinewidth": 0,
                        "ticks": ""
                      }
                    },
                    "colorscale": {
                      "diverging": [
                        [
                          0,
                          "#8e0152"
                        ],
                        [
                          0.1,
                          "#c51b7d"
                        ],
                        [
                          0.2,
                          "#de77ae"
                        ],
                        [
                          0.3,
                          "#f1b6da"
                        ],
                        [
                          0.4,
                          "#fde0ef"
                        ],
                        [
                          0.5,
                          "#f7f7f7"
                        ],
                        [
                          0.6,
                          "#e6f5d0"
                        ],
                        [
                          0.7,
                          "#b8e186"
                        ],
                        [
                          0.8,
                          "#7fbc41"
                        ],
                        [
                          0.9,
                          "#4d9221"
                        ],
                        [
                          1,
                          "#276419"
                        ]
                      ],
                      "sequential": [
                        [
                          0,
                          "#0d0887"
                        ],
                        [
                          0.1111111111111111,
                          "#46039f"
                        ],
                        [
                          0.2222222222222222,
                          "#7201a8"
                        ],
                        [
                          0.3333333333333333,
                          "#9c179e"
                        ],
                        [
                          0.4444444444444444,
                          "#bd3786"
                        ],
                        [
                          0.5555555555555556,
                          "#d8576b"
                        ],
                        [
                          0.6666666666666666,
                          "#ed7953"
                        ],
                        [
                          0.7777777777777778,
                          "#fb9f3a"
                        ],
                        [
                          0.8888888888888888,
                          "#fdca26"
                        ],
                        [
                          1,
                          "#f0f921"
                        ]
                      ],
                      "sequentialminus": [
                        [
                          0,
                          "#0d0887"
                        ],
                        [
                          0.1111111111111111,
                          "#46039f"
                        ],
                        [
                          0.2222222222222222,
                          "#7201a8"
                        ],
                        [
                          0.3333333333333333,
                          "#9c179e"
                        ],
                        [
                          0.4444444444444444,
                          "#bd3786"
                        ],
                        [
                          0.5555555555555556,
                          "#d8576b"
                        ],
                        [
                          0.6666666666666666,
                          "#ed7953"
                        ],
                        [
                          0.7777777777777778,
                          "#fb9f3a"
                        ],
                        [
                          0.8888888888888888,
                          "#fdca26"
                        ],
                        [
                          1,
                          "#f0f921"
                        ]
                      ]
                    },
                    "colorway": [
                      "#636efa",
                      "#EF553B",
                      "#00cc96",
                      "#ab63fa",
                      "#FFA15A",
                      "#19d3f3",
                      "#FF6692",
                      "#B6E880",
                      "#FF97FF",
                      "#FECB52"
                    ],
                    "font": {
                      "color": "#2a3f5f"
                    },
                    "geo": {
                      "bgcolor": "white",
                      "lakecolor": "white",
                      "landcolor": "#E5ECF6",
                      "showlakes": true,
                      "showland": true,
                      "subunitcolor": "white"
                    },
                    "hoverlabel": {
                      "align": "left"
                    },
                    "hovermode": "closest",
                    "mapbox": {
                      "style": "light"
                    },
                    "paper_bgcolor": "white",
                    "plot_bgcolor": "#E5ECF6",
                    "polar": {
                      "angularaxis": {
                        "gridcolor": "white",
                        "linecolor": "white",
                        "ticks": ""
                      },
                      "bgcolor": "#E5ECF6",
                      "radialaxis": {
                        "gridcolor": "white",
                        "linecolor": "white",
                        "ticks": ""
                      }
                    },
                    "scene": {
                      "xaxis": {
                        "backgroundcolor": "#E5ECF6",
                        "gridcolor": "white",
                        "gridwidth": 2,
                        "linecolor": "white",
                        "showbackground": true,
                        "ticks": "",
                        "zerolinecolor": "white"
                      },
                      "yaxis": {
                        "backgroundcolor": "#E5ECF6",
                        "gridcolor": "white",
                        "gridwidth": 2,
                        "linecolor": "white",
                        "showbackground": true,
                        "ticks": "",
                        "zerolinecolor": "white"
                      },
                      "zaxis": {
                        "backgroundcolor": "#E5ECF6",
                        "gridcolor": "white",
                        "gridwidth": 2,
                        "linecolor": "white",
                        "showbackground": true,
                        "ticks": "",
                        "zerolinecolor": "white"
                      }
                    },
                    "shapedefaults": {
                      "line": {
                        "color": "#2a3f5f"
                      }
                    },
                    "ternary": {
                      "aaxis": {
                        "gridcolor": "white",
                        "linecolor": "white",
                        "ticks": ""
                      },
                      "baxis": {
                        "gridcolor": "white",
                        "linecolor": "white",
                        "ticks": ""
                      },
                      "bgcolor": "#E5ECF6",
                      "caxis": {
                        "gridcolor": "white",
                        "linecolor": "white",
                        "ticks": ""
                      }
                    },
                    "title": {
                      "x": 0.05
                    },
                    "xaxis": {
                      "automargin": true,
                      "gridcolor": "white",
                      "linecolor": "white",
                      "ticks": "",
                      "title": {
                        "standoff": 15
                      },
                      "zerolinecolor": "white",
                      "zerolinewidth": 2
                    },
                    "yaxis": {
                      "automargin": true,
                      "gridcolor": "white",
                      "linecolor": "white",
                      "ticks": "",
                      "title": {
                        "standoff": 15
                      },
                      "zerolinecolor": "white",
                      "zerolinewidth": 2
                    }
                  }
                },
                "title": {
                  "text": "Optimization History Plot"
                },
                "xaxis": {
                  "title": {
                    "text": "Trial"
                  }
                },
                "yaxis": {
                  "title": {
                    "text": "Objective Value"
                  }
                }
              }
            }
          },
          "metadata": {},
          "output_type": "display_data"
        }
      ],
      "source": [
        "fig = optuna.visualization.plot_optimization_history(study)\n",
        "fig.show()"
      ]
    },
    {
      "cell_type": "code",
      "execution_count": 13,
      "metadata": {
        "colab": {
          "base_uri": "https://localhost:8080/",
          "height": 542
        },
        "id": "Zee8TWky7R_k",
        "outputId": "9bd8a87b-8976-4542-8d18-36b30fe8eefc"
      },
      "outputs": [
        {
          "data": {
            "application/vnd.plotly.v1+json": {
              "config": {
                "plotlyServerURL": "https://plot.ly"
              },
              "data": [
                {
                  "cliponaxis": false,
                  "hovertemplate": [
                    "criterion (CategoricalDistribution): 0.013489154755580875<extra></extra>",
                    "splitter (CategoricalDistribution): 0.04761722670469735<extra></extra>",
                    "max_leaf_nodes (IntDistribution): 0.06185657072383102<extra></extra>",
                    "max_depth (IntDistribution): 0.06942354373241193<extra></extra>",
                    "min_samples_split (IntDistribution): 0.13377698454127276<extra></extra>",
                    "min_samples_leaf (IntDistribution): 0.23072968507527414<extra></extra>",
                    "class_weight (CategoricalDistribution): 0.443106834466932<extra></extra>"
                  ],
                  "marker": {
                    "color": "rgb(66,146,198)"
                  },
                  "orientation": "h",
                  "text": [
                    "0.01",
                    "0.05",
                    "0.06",
                    "0.07",
                    "0.13",
                    "0.23",
                    "0.44"
                  ],
                  "textposition": "outside",
                  "type": "bar",
                  "x": [
                    0.013489154755580875,
                    0.04761722670469735,
                    0.06185657072383102,
                    0.06942354373241193,
                    0.13377698454127276,
                    0.23072968507527414,
                    0.443106834466932
                  ],
                  "y": [
                    "criterion",
                    "splitter",
                    "max_leaf_nodes",
                    "max_depth",
                    "min_samples_split",
                    "min_samples_leaf",
                    "class_weight"
                  ]
                }
              ],
              "layout": {
                "showlegend": false,
                "template": {
                  "data": {
                    "bar": [
                      {
                        "error_x": {
                          "color": "#2a3f5f"
                        },
                        "error_y": {
                          "color": "#2a3f5f"
                        },
                        "marker": {
                          "line": {
                            "color": "#E5ECF6",
                            "width": 0.5
                          },
                          "pattern": {
                            "fillmode": "overlay",
                            "size": 10,
                            "solidity": 0.2
                          }
                        },
                        "type": "bar"
                      }
                    ],
                    "barpolar": [
                      {
                        "marker": {
                          "line": {
                            "color": "#E5ECF6",
                            "width": 0.5
                          },
                          "pattern": {
                            "fillmode": "overlay",
                            "size": 10,
                            "solidity": 0.2
                          }
                        },
                        "type": "barpolar"
                      }
                    ],
                    "carpet": [
                      {
                        "aaxis": {
                          "endlinecolor": "#2a3f5f",
                          "gridcolor": "white",
                          "linecolor": "white",
                          "minorgridcolor": "white",
                          "startlinecolor": "#2a3f5f"
                        },
                        "baxis": {
                          "endlinecolor": "#2a3f5f",
                          "gridcolor": "white",
                          "linecolor": "white",
                          "minorgridcolor": "white",
                          "startlinecolor": "#2a3f5f"
                        },
                        "type": "carpet"
                      }
                    ],
                    "choropleth": [
                      {
                        "colorbar": {
                          "outlinewidth": 0,
                          "ticks": ""
                        },
                        "type": "choropleth"
                      }
                    ],
                    "contour": [
                      {
                        "colorbar": {
                          "outlinewidth": 0,
                          "ticks": ""
                        },
                        "colorscale": [
                          [
                            0,
                            "#0d0887"
                          ],
                          [
                            0.1111111111111111,
                            "#46039f"
                          ],
                          [
                            0.2222222222222222,
                            "#7201a8"
                          ],
                          [
                            0.3333333333333333,
                            "#9c179e"
                          ],
                          [
                            0.4444444444444444,
                            "#bd3786"
                          ],
                          [
                            0.5555555555555556,
                            "#d8576b"
                          ],
                          [
                            0.6666666666666666,
                            "#ed7953"
                          ],
                          [
                            0.7777777777777778,
                            "#fb9f3a"
                          ],
                          [
                            0.8888888888888888,
                            "#fdca26"
                          ],
                          [
                            1,
                            "#f0f921"
                          ]
                        ],
                        "type": "contour"
                      }
                    ],
                    "contourcarpet": [
                      {
                        "colorbar": {
                          "outlinewidth": 0,
                          "ticks": ""
                        },
                        "type": "contourcarpet"
                      }
                    ],
                    "heatmap": [
                      {
                        "colorbar": {
                          "outlinewidth": 0,
                          "ticks": ""
                        },
                        "colorscale": [
                          [
                            0,
                            "#0d0887"
                          ],
                          [
                            0.1111111111111111,
                            "#46039f"
                          ],
                          [
                            0.2222222222222222,
                            "#7201a8"
                          ],
                          [
                            0.3333333333333333,
                            "#9c179e"
                          ],
                          [
                            0.4444444444444444,
                            "#bd3786"
                          ],
                          [
                            0.5555555555555556,
                            "#d8576b"
                          ],
                          [
                            0.6666666666666666,
                            "#ed7953"
                          ],
                          [
                            0.7777777777777778,
                            "#fb9f3a"
                          ],
                          [
                            0.8888888888888888,
                            "#fdca26"
                          ],
                          [
                            1,
                            "#f0f921"
                          ]
                        ],
                        "type": "heatmap"
                      }
                    ],
                    "heatmapgl": [
                      {
                        "colorbar": {
                          "outlinewidth": 0,
                          "ticks": ""
                        },
                        "colorscale": [
                          [
                            0,
                            "#0d0887"
                          ],
                          [
                            0.1111111111111111,
                            "#46039f"
                          ],
                          [
                            0.2222222222222222,
                            "#7201a8"
                          ],
                          [
                            0.3333333333333333,
                            "#9c179e"
                          ],
                          [
                            0.4444444444444444,
                            "#bd3786"
                          ],
                          [
                            0.5555555555555556,
                            "#d8576b"
                          ],
                          [
                            0.6666666666666666,
                            "#ed7953"
                          ],
                          [
                            0.7777777777777778,
                            "#fb9f3a"
                          ],
                          [
                            0.8888888888888888,
                            "#fdca26"
                          ],
                          [
                            1,
                            "#f0f921"
                          ]
                        ],
                        "type": "heatmapgl"
                      }
                    ],
                    "histogram": [
                      {
                        "marker": {
                          "pattern": {
                            "fillmode": "overlay",
                            "size": 10,
                            "solidity": 0.2
                          }
                        },
                        "type": "histogram"
                      }
                    ],
                    "histogram2d": [
                      {
                        "colorbar": {
                          "outlinewidth": 0,
                          "ticks": ""
                        },
                        "colorscale": [
                          [
                            0,
                            "#0d0887"
                          ],
                          [
                            0.1111111111111111,
                            "#46039f"
                          ],
                          [
                            0.2222222222222222,
                            "#7201a8"
                          ],
                          [
                            0.3333333333333333,
                            "#9c179e"
                          ],
                          [
                            0.4444444444444444,
                            "#bd3786"
                          ],
                          [
                            0.5555555555555556,
                            "#d8576b"
                          ],
                          [
                            0.6666666666666666,
                            "#ed7953"
                          ],
                          [
                            0.7777777777777778,
                            "#fb9f3a"
                          ],
                          [
                            0.8888888888888888,
                            "#fdca26"
                          ],
                          [
                            1,
                            "#f0f921"
                          ]
                        ],
                        "type": "histogram2d"
                      }
                    ],
                    "histogram2dcontour": [
                      {
                        "colorbar": {
                          "outlinewidth": 0,
                          "ticks": ""
                        },
                        "colorscale": [
                          [
                            0,
                            "#0d0887"
                          ],
                          [
                            0.1111111111111111,
                            "#46039f"
                          ],
                          [
                            0.2222222222222222,
                            "#7201a8"
                          ],
                          [
                            0.3333333333333333,
                            "#9c179e"
                          ],
                          [
                            0.4444444444444444,
                            "#bd3786"
                          ],
                          [
                            0.5555555555555556,
                            "#d8576b"
                          ],
                          [
                            0.6666666666666666,
                            "#ed7953"
                          ],
                          [
                            0.7777777777777778,
                            "#fb9f3a"
                          ],
                          [
                            0.8888888888888888,
                            "#fdca26"
                          ],
                          [
                            1,
                            "#f0f921"
                          ]
                        ],
                        "type": "histogram2dcontour"
                      }
                    ],
                    "mesh3d": [
                      {
                        "colorbar": {
                          "outlinewidth": 0,
                          "ticks": ""
                        },
                        "type": "mesh3d"
                      }
                    ],
                    "parcoords": [
                      {
                        "line": {
                          "colorbar": {
                            "outlinewidth": 0,
                            "ticks": ""
                          }
                        },
                        "type": "parcoords"
                      }
                    ],
                    "pie": [
                      {
                        "automargin": true,
                        "type": "pie"
                      }
                    ],
                    "scatter": [
                      {
                        "fillpattern": {
                          "fillmode": "overlay",
                          "size": 10,
                          "solidity": 0.2
                        },
                        "type": "scatter"
                      }
                    ],
                    "scatter3d": [
                      {
                        "line": {
                          "colorbar": {
                            "outlinewidth": 0,
                            "ticks": ""
                          }
                        },
                        "marker": {
                          "colorbar": {
                            "outlinewidth": 0,
                            "ticks": ""
                          }
                        },
                        "type": "scatter3d"
                      }
                    ],
                    "scattercarpet": [
                      {
                        "marker": {
                          "colorbar": {
                            "outlinewidth": 0,
                            "ticks": ""
                          }
                        },
                        "type": "scattercarpet"
                      }
                    ],
                    "scattergeo": [
                      {
                        "marker": {
                          "colorbar": {
                            "outlinewidth": 0,
                            "ticks": ""
                          }
                        },
                        "type": "scattergeo"
                      }
                    ],
                    "scattergl": [
                      {
                        "marker": {
                          "colorbar": {
                            "outlinewidth": 0,
                            "ticks": ""
                          }
                        },
                        "type": "scattergl"
                      }
                    ],
                    "scattermapbox": [
                      {
                        "marker": {
                          "colorbar": {
                            "outlinewidth": 0,
                            "ticks": ""
                          }
                        },
                        "type": "scattermapbox"
                      }
                    ],
                    "scatterpolar": [
                      {
                        "marker": {
                          "colorbar": {
                            "outlinewidth": 0,
                            "ticks": ""
                          }
                        },
                        "type": "scatterpolar"
                      }
                    ],
                    "scatterpolargl": [
                      {
                        "marker": {
                          "colorbar": {
                            "outlinewidth": 0,
                            "ticks": ""
                          }
                        },
                        "type": "scatterpolargl"
                      }
                    ],
                    "scatterternary": [
                      {
                        "marker": {
                          "colorbar": {
                            "outlinewidth": 0,
                            "ticks": ""
                          }
                        },
                        "type": "scatterternary"
                      }
                    ],
                    "surface": [
                      {
                        "colorbar": {
                          "outlinewidth": 0,
                          "ticks": ""
                        },
                        "colorscale": [
                          [
                            0,
                            "#0d0887"
                          ],
                          [
                            0.1111111111111111,
                            "#46039f"
                          ],
                          [
                            0.2222222222222222,
                            "#7201a8"
                          ],
                          [
                            0.3333333333333333,
                            "#9c179e"
                          ],
                          [
                            0.4444444444444444,
                            "#bd3786"
                          ],
                          [
                            0.5555555555555556,
                            "#d8576b"
                          ],
                          [
                            0.6666666666666666,
                            "#ed7953"
                          ],
                          [
                            0.7777777777777778,
                            "#fb9f3a"
                          ],
                          [
                            0.8888888888888888,
                            "#fdca26"
                          ],
                          [
                            1,
                            "#f0f921"
                          ]
                        ],
                        "type": "surface"
                      }
                    ],
                    "table": [
                      {
                        "cells": {
                          "fill": {
                            "color": "#EBF0F8"
                          },
                          "line": {
                            "color": "white"
                          }
                        },
                        "header": {
                          "fill": {
                            "color": "#C8D4E3"
                          },
                          "line": {
                            "color": "white"
                          }
                        },
                        "type": "table"
                      }
                    ]
                  },
                  "layout": {
                    "annotationdefaults": {
                      "arrowcolor": "#2a3f5f",
                      "arrowhead": 0,
                      "arrowwidth": 1
                    },
                    "autotypenumbers": "strict",
                    "coloraxis": {
                      "colorbar": {
                        "outlinewidth": 0,
                        "ticks": ""
                      }
                    },
                    "colorscale": {
                      "diverging": [
                        [
                          0,
                          "#8e0152"
                        ],
                        [
                          0.1,
                          "#c51b7d"
                        ],
                        [
                          0.2,
                          "#de77ae"
                        ],
                        [
                          0.3,
                          "#f1b6da"
                        ],
                        [
                          0.4,
                          "#fde0ef"
                        ],
                        [
                          0.5,
                          "#f7f7f7"
                        ],
                        [
                          0.6,
                          "#e6f5d0"
                        ],
                        [
                          0.7,
                          "#b8e186"
                        ],
                        [
                          0.8,
                          "#7fbc41"
                        ],
                        [
                          0.9,
                          "#4d9221"
                        ],
                        [
                          1,
                          "#276419"
                        ]
                      ],
                      "sequential": [
                        [
                          0,
                          "#0d0887"
                        ],
                        [
                          0.1111111111111111,
                          "#46039f"
                        ],
                        [
                          0.2222222222222222,
                          "#7201a8"
                        ],
                        [
                          0.3333333333333333,
                          "#9c179e"
                        ],
                        [
                          0.4444444444444444,
                          "#bd3786"
                        ],
                        [
                          0.5555555555555556,
                          "#d8576b"
                        ],
                        [
                          0.6666666666666666,
                          "#ed7953"
                        ],
                        [
                          0.7777777777777778,
                          "#fb9f3a"
                        ],
                        [
                          0.8888888888888888,
                          "#fdca26"
                        ],
                        [
                          1,
                          "#f0f921"
                        ]
                      ],
                      "sequentialminus": [
                        [
                          0,
                          "#0d0887"
                        ],
                        [
                          0.1111111111111111,
                          "#46039f"
                        ],
                        [
                          0.2222222222222222,
                          "#7201a8"
                        ],
                        [
                          0.3333333333333333,
                          "#9c179e"
                        ],
                        [
                          0.4444444444444444,
                          "#bd3786"
                        ],
                        [
                          0.5555555555555556,
                          "#d8576b"
                        ],
                        [
                          0.6666666666666666,
                          "#ed7953"
                        ],
                        [
                          0.7777777777777778,
                          "#fb9f3a"
                        ],
                        [
                          0.8888888888888888,
                          "#fdca26"
                        ],
                        [
                          1,
                          "#f0f921"
                        ]
                      ]
                    },
                    "colorway": [
                      "#636efa",
                      "#EF553B",
                      "#00cc96",
                      "#ab63fa",
                      "#FFA15A",
                      "#19d3f3",
                      "#FF6692",
                      "#B6E880",
                      "#FF97FF",
                      "#FECB52"
                    ],
                    "font": {
                      "color": "#2a3f5f"
                    },
                    "geo": {
                      "bgcolor": "white",
                      "lakecolor": "white",
                      "landcolor": "#E5ECF6",
                      "showlakes": true,
                      "showland": true,
                      "subunitcolor": "white"
                    },
                    "hoverlabel": {
                      "align": "left"
                    },
                    "hovermode": "closest",
                    "mapbox": {
                      "style": "light"
                    },
                    "paper_bgcolor": "white",
                    "plot_bgcolor": "#E5ECF6",
                    "polar": {
                      "angularaxis": {
                        "gridcolor": "white",
                        "linecolor": "white",
                        "ticks": ""
                      },
                      "bgcolor": "#E5ECF6",
                      "radialaxis": {
                        "gridcolor": "white",
                        "linecolor": "white",
                        "ticks": ""
                      }
                    },
                    "scene": {
                      "xaxis": {
                        "backgroundcolor": "#E5ECF6",
                        "gridcolor": "white",
                        "gridwidth": 2,
                        "linecolor": "white",
                        "showbackground": true,
                        "ticks": "",
                        "zerolinecolor": "white"
                      },
                      "yaxis": {
                        "backgroundcolor": "#E5ECF6",
                        "gridcolor": "white",
                        "gridwidth": 2,
                        "linecolor": "white",
                        "showbackground": true,
                        "ticks": "",
                        "zerolinecolor": "white"
                      },
                      "zaxis": {
                        "backgroundcolor": "#E5ECF6",
                        "gridcolor": "white",
                        "gridwidth": 2,
                        "linecolor": "white",
                        "showbackground": true,
                        "ticks": "",
                        "zerolinecolor": "white"
                      }
                    },
                    "shapedefaults": {
                      "line": {
                        "color": "#2a3f5f"
                      }
                    },
                    "ternary": {
                      "aaxis": {
                        "gridcolor": "white",
                        "linecolor": "white",
                        "ticks": ""
                      },
                      "baxis": {
                        "gridcolor": "white",
                        "linecolor": "white",
                        "ticks": ""
                      },
                      "bgcolor": "#E5ECF6",
                      "caxis": {
                        "gridcolor": "white",
                        "linecolor": "white",
                        "ticks": ""
                      }
                    },
                    "title": {
                      "x": 0.05
                    },
                    "xaxis": {
                      "automargin": true,
                      "gridcolor": "white",
                      "linecolor": "white",
                      "ticks": "",
                      "title": {
                        "standoff": 15
                      },
                      "zerolinecolor": "white",
                      "zerolinewidth": 2
                    },
                    "yaxis": {
                      "automargin": true,
                      "gridcolor": "white",
                      "linecolor": "white",
                      "ticks": "",
                      "title": {
                        "standoff": 15
                      },
                      "zerolinecolor": "white",
                      "zerolinewidth": 2
                    }
                  }
                },
                "title": {
                  "text": "Hyperparameter Importances"
                },
                "xaxis": {
                  "title": {
                    "text": "Importance for Objective Value"
                  }
                },
                "yaxis": {
                  "title": {
                    "text": "Hyperparameter"
                  }
                }
              }
            }
          },
          "metadata": {},
          "output_type": "display_data"
        }
      ],
      "source": [
        "fig = optuna.visualization.plot_param_importances(study)\n",
        "fig.show()"
      ]
    },
    {
      "cell_type": "markdown",
      "metadata": {
        "id": "3s0nDvT06diA"
      },
      "source": [
        "# Build the Final Model (on all the data)"
      ]
    },
    {
      "cell_type": "code",
      "execution_count": 14,
      "metadata": {
        "colab": {
          "base_uri": "https://localhost:8080/"
        },
        "id": "iA_sZZNz6erB",
        "outputId": "83c4ed92-c4bb-48b0-dcb3-76a16dbe58ae"
      },
      "outputs": [
        {
          "data": {
            "text/plain": [
              "DecisionTreeClassifier(class_weight='balanced', criterion='entropy',\n",
              "                       max_depth=40, max_leaf_nodes=810, min_samples_leaf=5,\n",
              "                       min_samples_split=65)"
            ]
          },
          "execution_count": 14,
          "metadata": {},
          "output_type": "execute_result"
        }
      ],
      "source": [
        "clf = DecisionTreeClassifier(**study.best_params)\n",
        "clf.fit(X,y)"
      ]
    },
    {
      "cell_type": "code",
      "execution_count": 15,
      "metadata": {
        "id": "h9X5xxlA6n6K"
      },
      "outputs": [],
      "source": [
        " # ... and now you can make predictions on new (competition, or real) data, deploy, etc..."
      ]
    }
  ],
  "metadata": {
    "colab": {
      "authorship_tag": "ABX9TyMyRqtAol79hmrriVWmszXj",
      "collapsed_sections": [],
      "include_colab_link": true,
      "name": "optuna_example.ipynb",
      "provenance": []
    },
    "kernelspec": {
      "display_name": "Python 3.9.13 ('base')",
      "language": "python",
      "name": "python3"
    },
    "language_info": {
      "codemirror_mode": {
        "name": "ipython",
        "version": 3
      },
      "file_extension": ".py",
      "mimetype": "text/x-python",
      "name": "python",
      "nbconvert_exporter": "python",
      "pygments_lexer": "ipython3",
      "version": "3.9.13"
    },
    "vscode": {
      "interpreter": {
        "hash": "594cbcb53b7eb24b01ad1ace3292a9583de43e996a12a214afbcf4f5a5715dd8"
      }
    }
  },
  "nbformat": 4,
  "nbformat_minor": 0
}
